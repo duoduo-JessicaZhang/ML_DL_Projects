{
  "nbformat": 4,
  "nbformat_minor": 0,
  "metadata": {
    "kernelspec": {
      "display_name": "Python 3",
      "language": "python",
      "name": "python3"
    },
    "language_info": {
      "codemirror_mode": {
        "name": "ipython",
        "version": 3
      },
      "file_extension": ".py",
      "mimetype": "text/x-python",
      "name": "python",
      "nbconvert_exporter": "python",
      "pygments_lexer": "ipython3",
      "version": "3.8.5"
    },
    "colab": {
      "name": "StockPricePrediction_AlgoTrading.ipynb",
      "provenance": [],
      "collapsed_sections": [
        "z7RYRkhKcXpl",
        "5dMRLEtUcXpn",
        "GYq5cr1tcXpo",
        "OIpAl5Y8cXpp",
        "ufExgn22cXpp"
      ],
      "toc_visible": true
    }
  },
  "cells": [
    {
      "cell_type": "markdown",
      "metadata": {
        "id": "fdFPAb45cXpZ"
      },
      "source": [
        "# Use Machine Learning in a Trading Strategy\n",
        "\n",
        "## Loading and Preparing the Data"
      ]
    },
    {
      "cell_type": "code",
      "metadata": {
        "id": "3zEJu4yYcXpd"
      },
      "source": [
        "# Import required libraries\n",
        "import pandas as pd\n",
        "from pathlib import Path"
      ],
      "execution_count": null,
      "outputs": []
    },
    {
      "cell_type": "code",
      "metadata": {
        "colab": {
          "base_uri": "https://localhost:8080/",
          "height": 235
        },
        "id": "KQaDp668cXpe",
        "outputId": "67ebe688-0024-434d-84fa-8cffbe592ebe"
      },
      "source": [
        "# Import the OHLCV dataset into a Pandas Dataframe\n",
        "trading_df = pd.read_csv(\n",
        "    Path(\"/content/ohlcv.csv\"), \n",
        "    index_col=\"date\", \n",
        "    infer_datetime_format=True, \n",
        "    parse_dates=True\n",
        ")\n",
        "# Display sample data\n",
        "trading_df.head()"
      ],
      "execution_count": null,
      "outputs": [
        {
          "output_type": "execute_result",
          "data": {
            "text/html": [
              "<div>\n",
              "<style scoped>\n",
              "    .dataframe tbody tr th:only-of-type {\n",
              "        vertical-align: middle;\n",
              "    }\n",
              "\n",
              "    .dataframe tbody tr th {\n",
              "        vertical-align: top;\n",
              "    }\n",
              "\n",
              "    .dataframe thead th {\n",
              "        text-align: right;\n",
              "    }\n",
              "</style>\n",
              "<table border=\"1\" class=\"dataframe\">\n",
              "  <thead>\n",
              "    <tr style=\"text-align: right;\">\n",
              "      <th></th>\n",
              "      <th>open</th>\n",
              "      <th>high</th>\n",
              "      <th>low</th>\n",
              "      <th>close</th>\n",
              "      <th>volume</th>\n",
              "    </tr>\n",
              "    <tr>\n",
              "      <th>date</th>\n",
              "      <th></th>\n",
              "      <th></th>\n",
              "      <th></th>\n",
              "      <th></th>\n",
              "      <th></th>\n",
              "    </tr>\n",
              "  </thead>\n",
              "  <tbody>\n",
              "    <tr>\n",
              "      <th>2018-10-19 09:30:00</th>\n",
              "      <td>16.90</td>\n",
              "      <td>17.18</td>\n",
              "      <td>16.90</td>\n",
              "      <td>17.095</td>\n",
              "      <td>11522</td>\n",
              "    </tr>\n",
              "    <tr>\n",
              "      <th>2018-10-19 09:45:00</th>\n",
              "      <td>17.11</td>\n",
              "      <td>17.44</td>\n",
              "      <td>17.11</td>\n",
              "      <td>17.400</td>\n",
              "      <td>70593</td>\n",
              "    </tr>\n",
              "    <tr>\n",
              "      <th>2018-10-19 10:00:00</th>\n",
              "      <td>17.40</td>\n",
              "      <td>17.40</td>\n",
              "      <td>17.25</td>\n",
              "      <td>17.280</td>\n",
              "      <td>38885</td>\n",
              "    </tr>\n",
              "    <tr>\n",
              "      <th>2018-10-19 10:15:00</th>\n",
              "      <td>17.27</td>\n",
              "      <td>17.27</td>\n",
              "      <td>17.18</td>\n",
              "      <td>17.200</td>\n",
              "      <td>37046</td>\n",
              "    </tr>\n",
              "    <tr>\n",
              "      <th>2018-10-19 10:30:00</th>\n",
              "      <td>17.21</td>\n",
              "      <td>17.37</td>\n",
              "      <td>17.19</td>\n",
              "      <td>17.200</td>\n",
              "      <td>46874</td>\n",
              "    </tr>\n",
              "  </tbody>\n",
              "</table>\n",
              "</div>"
            ],
            "text/plain": [
              "                      open   high    low   close  volume\n",
              "date                                                    \n",
              "2018-10-19 09:30:00  16.90  17.18  16.90  17.095   11522\n",
              "2018-10-19 09:45:00  17.11  17.44  17.11  17.400   70593\n",
              "2018-10-19 10:00:00  17.40  17.40  17.25  17.280   38885\n",
              "2018-10-19 10:15:00  17.27  17.27  17.18  17.200   37046\n",
              "2018-10-19 10:30:00  17.21  17.37  17.19  17.200   46874"
            ]
          },
          "metadata": {},
          "execution_count": 16
        }
      ]
    },
    {
      "cell_type": "code",
      "metadata": {
        "colab": {
          "base_uri": "https://localhost:8080/",
          "height": 235
        },
        "id": "wJ-F_I9OcXpf",
        "outputId": "0dd91125-b36e-4a76-cd8c-5937699ed459"
      },
      "source": [
        "# Calculate the daily returns using the closing prices and the pct_change function\n",
        "trading_df[\"actual_returns\"] = trading_df[\"close\"].pct_change()\n",
        "# Display sample data\n",
        "trading_df.head()"
      ],
      "execution_count": null,
      "outputs": [
        {
          "output_type": "execute_result",
          "data": {
            "text/html": [
              "<div>\n",
              "<style scoped>\n",
              "    .dataframe tbody tr th:only-of-type {\n",
              "        vertical-align: middle;\n",
              "    }\n",
              "\n",
              "    .dataframe tbody tr th {\n",
              "        vertical-align: top;\n",
              "    }\n",
              "\n",
              "    .dataframe thead th {\n",
              "        text-align: right;\n",
              "    }\n",
              "</style>\n",
              "<table border=\"1\" class=\"dataframe\">\n",
              "  <thead>\n",
              "    <tr style=\"text-align: right;\">\n",
              "      <th></th>\n",
              "      <th>open</th>\n",
              "      <th>high</th>\n",
              "      <th>low</th>\n",
              "      <th>close</th>\n",
              "      <th>volume</th>\n",
              "      <th>actual_returns</th>\n",
              "    </tr>\n",
              "    <tr>\n",
              "      <th>date</th>\n",
              "      <th></th>\n",
              "      <th></th>\n",
              "      <th></th>\n",
              "      <th></th>\n",
              "      <th></th>\n",
              "      <th></th>\n",
              "    </tr>\n",
              "  </thead>\n",
              "  <tbody>\n",
              "    <tr>\n",
              "      <th>2018-10-19 09:30:00</th>\n",
              "      <td>16.90</td>\n",
              "      <td>17.18</td>\n",
              "      <td>16.90</td>\n",
              "      <td>17.095</td>\n",
              "      <td>11522</td>\n",
              "      <td>NaN</td>\n",
              "    </tr>\n",
              "    <tr>\n",
              "      <th>2018-10-19 09:45:00</th>\n",
              "      <td>17.11</td>\n",
              "      <td>17.44</td>\n",
              "      <td>17.11</td>\n",
              "      <td>17.400</td>\n",
              "      <td>70593</td>\n",
              "      <td>0.017841</td>\n",
              "    </tr>\n",
              "    <tr>\n",
              "      <th>2018-10-19 10:00:00</th>\n",
              "      <td>17.40</td>\n",
              "      <td>17.40</td>\n",
              "      <td>17.25</td>\n",
              "      <td>17.280</td>\n",
              "      <td>38885</td>\n",
              "      <td>-0.006897</td>\n",
              "    </tr>\n",
              "    <tr>\n",
              "      <th>2018-10-19 10:15:00</th>\n",
              "      <td>17.27</td>\n",
              "      <td>17.27</td>\n",
              "      <td>17.18</td>\n",
              "      <td>17.200</td>\n",
              "      <td>37046</td>\n",
              "      <td>-0.004630</td>\n",
              "    </tr>\n",
              "    <tr>\n",
              "      <th>2018-10-19 10:30:00</th>\n",
              "      <td>17.21</td>\n",
              "      <td>17.37</td>\n",
              "      <td>17.19</td>\n",
              "      <td>17.200</td>\n",
              "      <td>46874</td>\n",
              "      <td>0.000000</td>\n",
              "    </tr>\n",
              "  </tbody>\n",
              "</table>\n",
              "</div>"
            ],
            "text/plain": [
              "                      open   high    low   close  volume  actual_returns\n",
              "date                                                                    \n",
              "2018-10-19 09:30:00  16.90  17.18  16.90  17.095   11522             NaN\n",
              "2018-10-19 09:45:00  17.11  17.44  17.11  17.400   70593        0.017841\n",
              "2018-10-19 10:00:00  17.40  17.40  17.25  17.280   38885       -0.006897\n",
              "2018-10-19 10:15:00  17.27  17.27  17.18  17.200   37046       -0.004630\n",
              "2018-10-19 10:30:00  17.21  17.37  17.19  17.200   46874        0.000000"
            ]
          },
          "metadata": {},
          "execution_count": 17
        }
      ]
    },
    {
      "cell_type": "code",
      "metadata": {
        "colab": {
          "base_uri": "https://localhost:8080/",
          "height": 453
        },
        "id": "0_S6RpiQcXpg",
        "outputId": "a7647dfe-bd6d-4ace-e17f-569ea1b96d8c"
      },
      "source": [
        "# Drop all NaN values from the DataFrame\n",
        "trading_df = trading_df.dropna()\n",
        "\n",
        "# Review the DataFrame\n",
        "display(trading_df.head())\n",
        "display(trading_df.tail())"
      ],
      "execution_count": null,
      "outputs": [
        {
          "output_type": "display_data",
          "data": {
            "text/html": [
              "<div>\n",
              "<style scoped>\n",
              "    .dataframe tbody tr th:only-of-type {\n",
              "        vertical-align: middle;\n",
              "    }\n",
              "\n",
              "    .dataframe tbody tr th {\n",
              "        vertical-align: top;\n",
              "    }\n",
              "\n",
              "    .dataframe thead th {\n",
              "        text-align: right;\n",
              "    }\n",
              "</style>\n",
              "<table border=\"1\" class=\"dataframe\">\n",
              "  <thead>\n",
              "    <tr style=\"text-align: right;\">\n",
              "      <th></th>\n",
              "      <th>open</th>\n",
              "      <th>high</th>\n",
              "      <th>low</th>\n",
              "      <th>close</th>\n",
              "      <th>volume</th>\n",
              "      <th>actual_returns</th>\n",
              "    </tr>\n",
              "    <tr>\n",
              "      <th>date</th>\n",
              "      <th></th>\n",
              "      <th></th>\n",
              "      <th></th>\n",
              "      <th></th>\n",
              "      <th></th>\n",
              "      <th></th>\n",
              "    </tr>\n",
              "  </thead>\n",
              "  <tbody>\n",
              "    <tr>\n",
              "      <th>2018-10-19 09:45:00</th>\n",
              "      <td>17.11</td>\n",
              "      <td>17.44</td>\n",
              "      <td>17.11</td>\n",
              "      <td>17.40</td>\n",
              "      <td>70593</td>\n",
              "      <td>0.017841</td>\n",
              "    </tr>\n",
              "    <tr>\n",
              "      <th>2018-10-19 10:00:00</th>\n",
              "      <td>17.40</td>\n",
              "      <td>17.40</td>\n",
              "      <td>17.25</td>\n",
              "      <td>17.28</td>\n",
              "      <td>38885</td>\n",
              "      <td>-0.006897</td>\n",
              "    </tr>\n",
              "    <tr>\n",
              "      <th>2018-10-19 10:15:00</th>\n",
              "      <td>17.27</td>\n",
              "      <td>17.27</td>\n",
              "      <td>17.18</td>\n",
              "      <td>17.20</td>\n",
              "      <td>37046</td>\n",
              "      <td>-0.004630</td>\n",
              "    </tr>\n",
              "    <tr>\n",
              "      <th>2018-10-19 10:30:00</th>\n",
              "      <td>17.21</td>\n",
              "      <td>17.37</td>\n",
              "      <td>17.19</td>\n",
              "      <td>17.20</td>\n",
              "      <td>46874</td>\n",
              "      <td>0.000000</td>\n",
              "    </tr>\n",
              "    <tr>\n",
              "      <th>2018-10-19 10:45:00</th>\n",
              "      <td>17.20</td>\n",
              "      <td>17.20</td>\n",
              "      <td>17.10</td>\n",
              "      <td>17.12</td>\n",
              "      <td>11266</td>\n",
              "      <td>-0.004651</td>\n",
              "    </tr>\n",
              "  </tbody>\n",
              "</table>\n",
              "</div>"
            ],
            "text/plain": [
              "                      open   high    low  close  volume  actual_returns\n",
              "date                                                                   \n",
              "2018-10-19 09:45:00  17.11  17.44  17.11  17.40   70593        0.017841\n",
              "2018-10-19 10:00:00  17.40  17.40  17.25  17.28   38885       -0.006897\n",
              "2018-10-19 10:15:00  17.27  17.27  17.18  17.20   37046       -0.004630\n",
              "2018-10-19 10:30:00  17.21  17.37  17.19  17.20   46874        0.000000\n",
              "2018-10-19 10:45:00  17.20  17.20  17.10  17.12   11266       -0.004651"
            ]
          },
          "metadata": {}
        },
        {
          "output_type": "display_data",
          "data": {
            "text/html": [
              "<div>\n",
              "<style scoped>\n",
              "    .dataframe tbody tr th:only-of-type {\n",
              "        vertical-align: middle;\n",
              "    }\n",
              "\n",
              "    .dataframe tbody tr th {\n",
              "        vertical-align: top;\n",
              "    }\n",
              "\n",
              "    .dataframe thead th {\n",
              "        text-align: right;\n",
              "    }\n",
              "</style>\n",
              "<table border=\"1\" class=\"dataframe\">\n",
              "  <thead>\n",
              "    <tr style=\"text-align: right;\">\n",
              "      <th></th>\n",
              "      <th>open</th>\n",
              "      <th>high</th>\n",
              "      <th>low</th>\n",
              "      <th>close</th>\n",
              "      <th>volume</th>\n",
              "      <th>actual_returns</th>\n",
              "    </tr>\n",
              "    <tr>\n",
              "      <th>date</th>\n",
              "      <th></th>\n",
              "      <th></th>\n",
              "      <th></th>\n",
              "      <th></th>\n",
              "      <th></th>\n",
              "      <th></th>\n",
              "    </tr>\n",
              "  </thead>\n",
              "  <tbody>\n",
              "    <tr>\n",
              "      <th>2020-09-04 14:45:00</th>\n",
              "      <td>6.225</td>\n",
              "      <td>6.26</td>\n",
              "      <td>6.220</td>\n",
              "      <td>6.250</td>\n",
              "      <td>55512</td>\n",
              "      <td>0.003210</td>\n",
              "    </tr>\n",
              "    <tr>\n",
              "      <th>2020-09-04 15:00:00</th>\n",
              "      <td>6.255</td>\n",
              "      <td>6.27</td>\n",
              "      <td>6.245</td>\n",
              "      <td>6.250</td>\n",
              "      <td>65810</td>\n",
              "      <td>0.000000</td>\n",
              "    </tr>\n",
              "    <tr>\n",
              "      <th>2020-09-04 15:15:00</th>\n",
              "      <td>6.250</td>\n",
              "      <td>6.29</td>\n",
              "      <td>6.250</td>\n",
              "      <td>6.275</td>\n",
              "      <td>202630</td>\n",
              "      <td>0.004000</td>\n",
              "    </tr>\n",
              "    <tr>\n",
              "      <th>2020-09-04 15:30:00</th>\n",
              "      <td>6.270</td>\n",
              "      <td>6.28</td>\n",
              "      <td>6.250</td>\n",
              "      <td>6.255</td>\n",
              "      <td>130140</td>\n",
              "      <td>-0.003187</td>\n",
              "    </tr>\n",
              "    <tr>\n",
              "      <th>2020-09-04 15:45:00</th>\n",
              "      <td>6.250</td>\n",
              "      <td>6.28</td>\n",
              "      <td>6.250</td>\n",
              "      <td>6.250</td>\n",
              "      <td>190278</td>\n",
              "      <td>-0.000799</td>\n",
              "    </tr>\n",
              "  </tbody>\n",
              "</table>\n",
              "</div>"
            ],
            "text/plain": [
              "                      open  high    low  close  volume  actual_returns\n",
              "date                                                                  \n",
              "2020-09-04 14:45:00  6.225  6.26  6.220  6.250   55512        0.003210\n",
              "2020-09-04 15:00:00  6.255  6.27  6.245  6.250   65810        0.000000\n",
              "2020-09-04 15:15:00  6.250  6.29  6.250  6.275  202630        0.004000\n",
              "2020-09-04 15:30:00  6.270  6.28  6.250  6.255  130140       -0.003187\n",
              "2020-09-04 15:45:00  6.250  6.28  6.250  6.250  190278       -0.000799"
            ]
          },
          "metadata": {}
        }
      ]
    },
    {
      "cell_type": "markdown",
      "metadata": {
        "id": "PHImSxTZcXpg"
      },
      "source": [
        "## Generating the Features and Target Sets\n",
        "\n",
        "### Creating the Features Set"
      ]
    },
    {
      "cell_type": "code",
      "metadata": {
        "id": "AqBD0bTGcXph",
        "colab": {
          "base_uri": "https://localhost:8080/"
        },
        "outputId": "4aee6b65-1e19-4528-dfeb-fc92ece53232"
      },
      "source": [
        "# Define a window size of 4\n",
        "short_window = 4\n",
        "# Create an SMA that uses short_window, and assign it to a new column named “sma_fast”\n",
        "trading_df[\"sma_fast\"] = trading_df[\"close\"].rolling(window=short_window).mean()\n"
      ],
      "execution_count": null,
      "outputs": [
        {
          "output_type": "stream",
          "name": "stderr",
          "text": [
            "/usr/local/lib/python3.7/dist-packages/ipykernel_launcher.py:4: SettingWithCopyWarning: \n",
            "A value is trying to be set on a copy of a slice from a DataFrame.\n",
            "Try using .loc[row_indexer,col_indexer] = value instead\n",
            "\n",
            "See the caveats in the documentation: https://pandas.pydata.org/pandas-docs/stable/user_guide/indexing.html#returning-a-view-versus-a-copy\n",
            "  after removing the cwd from sys.path.\n"
          ]
        }
      ]
    },
    {
      "cell_type": "code",
      "metadata": {
        "id": "B7gzFhedkzib"
      },
      "source": [
        "import numpy as np"
      ],
      "execution_count": null,
      "outputs": []
    },
    {
      "cell_type": "code",
      "metadata": {
        "id": "7eWjgAVXcXpi",
        "colab": {
          "base_uri": "https://localhost:8080/"
        },
        "outputId": "cbf15b4c-01b5-4515-fce0-0b276e458440"
      },
      "source": [
        "# Define a window size of 100\n",
        "long_window = 100\n",
        "# Create an SMA that uses long_window, and assign it to a new columns named “sma_slow”\n",
        "trading_df[\"sma_slow\"] = trading_df[\"close\"].rolling(window=long_window).mean()"
      ],
      "execution_count": null,
      "outputs": [
        {
          "output_type": "stream",
          "name": "stderr",
          "text": [
            "/usr/local/lib/python3.7/dist-packages/ipykernel_launcher.py:4: SettingWithCopyWarning: \n",
            "A value is trying to be set on a copy of a slice from a DataFrame.\n",
            "Try using .loc[row_indexer,col_indexer] = value instead\n",
            "\n",
            "See the caveats in the documentation: https://pandas.pydata.org/pandas-docs/stable/user_guide/indexing.html#returning-a-view-versus-a-copy\n",
            "  after removing the cwd from sys.path.\n"
          ]
        }
      ]
    },
    {
      "cell_type": "code",
      "metadata": {
        "colab": {
          "base_uri": "https://localhost:8080/"
        },
        "id": "dotimxTW2pkx",
        "outputId": "5e4a9b61-c4bf-48d2-ddc4-5f94d3aa81db"
      },
      "source": [
        "trading_df[\"sma_fast_sqr\"] = trading_df[\"close\"].rolling(window=short_window).mean()**2\n",
        "trading_df[\"sma_slow_sqr\"] = np.square(trading_df[\"close\"].rolling(window=long_window).mean())\n",
        "trading_df[\"sma_fast_sin\"] = np.sin(trading_df[\"close\"].rolling(window=short_window).mean())\n",
        "trading_df[\"sma_slow_sin\"] = np.sin(trading_df[\"close\"].rolling(window=long_window).mean())"
      ],
      "execution_count": null,
      "outputs": [
        {
          "output_type": "stream",
          "name": "stderr",
          "text": [
            "/usr/local/lib/python3.7/dist-packages/ipykernel_launcher.py:1: SettingWithCopyWarning: \n",
            "A value is trying to be set on a copy of a slice from a DataFrame.\n",
            "Try using .loc[row_indexer,col_indexer] = value instead\n",
            "\n",
            "See the caveats in the documentation: https://pandas.pydata.org/pandas-docs/stable/user_guide/indexing.html#returning-a-view-versus-a-copy\n",
            "  \"\"\"Entry point for launching an IPython kernel.\n",
            "/usr/local/lib/python3.7/dist-packages/ipykernel_launcher.py:2: SettingWithCopyWarning: \n",
            "A value is trying to be set on a copy of a slice from a DataFrame.\n",
            "Try using .loc[row_indexer,col_indexer] = value instead\n",
            "\n",
            "See the caveats in the documentation: https://pandas.pydata.org/pandas-docs/stable/user_guide/indexing.html#returning-a-view-versus-a-copy\n",
            "  \n",
            "/usr/local/lib/python3.7/dist-packages/ipykernel_launcher.py:3: SettingWithCopyWarning: \n",
            "A value is trying to be set on a copy of a slice from a DataFrame.\n",
            "Try using .loc[row_indexer,col_indexer] = value instead\n",
            "\n",
            "See the caveats in the documentation: https://pandas.pydata.org/pandas-docs/stable/user_guide/indexing.html#returning-a-view-versus-a-copy\n",
            "  This is separate from the ipykernel package so we can avoid doing imports until\n",
            "/usr/local/lib/python3.7/dist-packages/ipykernel_launcher.py:4: SettingWithCopyWarning: \n",
            "A value is trying to be set on a copy of a slice from a DataFrame.\n",
            "Try using .loc[row_indexer,col_indexer] = value instead\n",
            "\n",
            "See the caveats in the documentation: https://pandas.pydata.org/pandas-docs/stable/user_guide/indexing.html#returning-a-view-versus-a-copy\n",
            "  after removing the cwd from sys.path.\n"
          ]
        }
      ]
    },
    {
      "cell_type": "code",
      "metadata": {
        "id": "Hwzsxf92cXpi"
      },
      "source": [
        "# Drop the NaNs using dropna()\n",
        "trading_df = trading_df.dropna()"
      ],
      "execution_count": null,
      "outputs": []
    },
    {
      "cell_type": "code",
      "metadata": {
        "colab": {
          "base_uri": "https://localhost:8080/",
          "height": 425
        },
        "id": "UUSwkoCIcXpj",
        "outputId": "7c2eb49a-6e34-4a55-85ce-3dd816705ab7"
      },
      "source": [
        "trading_df.head()"
      ],
      "execution_count": null,
      "outputs": [
        {
          "output_type": "execute_result",
          "data": {
            "text/html": [
              "<div>\n",
              "<style scoped>\n",
              "    .dataframe tbody tr th:only-of-type {\n",
              "        vertical-align: middle;\n",
              "    }\n",
              "\n",
              "    .dataframe tbody tr th {\n",
              "        vertical-align: top;\n",
              "    }\n",
              "\n",
              "    .dataframe thead th {\n",
              "        text-align: right;\n",
              "    }\n",
              "</style>\n",
              "<table border=\"1\" class=\"dataframe\">\n",
              "  <thead>\n",
              "    <tr style=\"text-align: right;\">\n",
              "      <th></th>\n",
              "      <th>open</th>\n",
              "      <th>high</th>\n",
              "      <th>low</th>\n",
              "      <th>close</th>\n",
              "      <th>volume</th>\n",
              "      <th>actual_returns</th>\n",
              "      <th>sma_fast</th>\n",
              "      <th>sma_slow</th>\n",
              "      <th>sma_fast_sqr</th>\n",
              "      <th>sma_slow_sqr</th>\n",
              "      <th>sma_fast_sin</th>\n",
              "      <th>sma_slow_sin</th>\n",
              "    </tr>\n",
              "    <tr>\n",
              "      <th>date</th>\n",
              "      <th></th>\n",
              "      <th></th>\n",
              "      <th></th>\n",
              "      <th></th>\n",
              "      <th></th>\n",
              "      <th></th>\n",
              "      <th></th>\n",
              "      <th></th>\n",
              "      <th></th>\n",
              "      <th></th>\n",
              "      <th></th>\n",
              "      <th></th>\n",
              "    </tr>\n",
              "  </thead>\n",
              "  <tbody>\n",
              "    <tr>\n",
              "      <th>2018-10-24 15:00:00</th>\n",
              "      <td>15.66</td>\n",
              "      <td>15.66</td>\n",
              "      <td>15.600</td>\n",
              "      <td>15.615</td>\n",
              "      <td>80027</td>\n",
              "      <td>-0.002874</td>\n",
              "      <td>15.65250</td>\n",
              "      <td>16.3403</td>\n",
              "      <td>245.000756</td>\n",
              "      <td>267.005404</td>\n",
              "      <td>0.055435</td>\n",
              "      <td>-0.591031</td>\n",
              "    </tr>\n",
              "    <tr>\n",
              "      <th>2018-10-24 15:15:00</th>\n",
              "      <td>15.63</td>\n",
              "      <td>15.66</td>\n",
              "      <td>15.520</td>\n",
              "      <td>15.530</td>\n",
              "      <td>76449</td>\n",
              "      <td>-0.005443</td>\n",
              "      <td>15.61875</td>\n",
              "      <td>16.3216</td>\n",
              "      <td>243.945352</td>\n",
              "      <td>266.394627</td>\n",
              "      <td>0.089095</td>\n",
              "      <td>-0.575845</td>\n",
              "    </tr>\n",
              "    <tr>\n",
              "      <th>2018-10-24 15:30:00</th>\n",
              "      <td>15.54</td>\n",
              "      <td>15.54</td>\n",
              "      <td>15.180</td>\n",
              "      <td>15.410</td>\n",
              "      <td>137468</td>\n",
              "      <td>-0.007727</td>\n",
              "      <td>15.55375</td>\n",
              "      <td>16.3029</td>\n",
              "      <td>241.919139</td>\n",
              "      <td>265.784548</td>\n",
              "      <td>0.153603</td>\n",
              "      <td>-0.560456</td>\n",
              "    </tr>\n",
              "    <tr>\n",
              "      <th>2018-10-24 15:45:00</th>\n",
              "      <td>15.41</td>\n",
              "      <td>15.42</td>\n",
              "      <td>15.350</td>\n",
              "      <td>15.350</td>\n",
              "      <td>688995</td>\n",
              "      <td>-0.003894</td>\n",
              "      <td>15.47625</td>\n",
              "      <td>16.2844</td>\n",
              "      <td>239.514314</td>\n",
              "      <td>265.181683</td>\n",
              "      <td>0.229645</td>\n",
              "      <td>-0.545040</td>\n",
              "    </tr>\n",
              "    <tr>\n",
              "      <th>2018-10-25 09:30:00</th>\n",
              "      <td>15.55</td>\n",
              "      <td>15.55</td>\n",
              "      <td>15.205</td>\n",
              "      <td>15.320</td>\n",
              "      <td>44387</td>\n",
              "      <td>-0.001954</td>\n",
              "      <td>15.40250</td>\n",
              "      <td>16.2656</td>\n",
              "      <td>237.237006</td>\n",
              "      <td>264.569743</td>\n",
              "      <td>0.300735</td>\n",
              "      <td>-0.529182</td>\n",
              "    </tr>\n",
              "  </tbody>\n",
              "</table>\n",
              "</div>"
            ],
            "text/plain": [
              "                      open   high  ...  sma_fast_sin  sma_slow_sin\n",
              "date                               ...                            \n",
              "2018-10-24 15:00:00  15.66  15.66  ...      0.055435     -0.591031\n",
              "2018-10-24 15:15:00  15.63  15.66  ...      0.089095     -0.575845\n",
              "2018-10-24 15:30:00  15.54  15.54  ...      0.153603     -0.560456\n",
              "2018-10-24 15:45:00  15.41  15.42  ...      0.229645     -0.545040\n",
              "2018-10-25 09:30:00  15.55  15.55  ...      0.300735     -0.529182\n",
              "\n",
              "[5 rows x 12 columns]"
            ]
          },
          "metadata": {},
          "execution_count": 24
        }
      ]
    },
    {
      "cell_type": "code",
      "metadata": {
        "colab": {
          "base_uri": "https://localhost:8080/",
          "height": 453
        },
        "id": "OD4xuyOrcXpj",
        "outputId": "8ed41642-fded-41a7-f6b7-ad0bb97def1e"
      },
      "source": [
        "# Assign a copy of the `sma_fast` and `sma_slow` columns to a new DataFrame called `X`\n",
        "X = trading_df[[\"sma_fast\",\"sma_fast_sqr\",\"sma_fast_sin\",\"sma_slow\",\"sma_slow_sqr\",\"sma_slow_sin\" ]].shift().dropna().copy()\n",
        "# Display sample data\n",
        "display(X.head())\n",
        "display(X.tail())"
      ],
      "execution_count": null,
      "outputs": [
        {
          "output_type": "display_data",
          "data": {
            "text/html": [
              "<div>\n",
              "<style scoped>\n",
              "    .dataframe tbody tr th:only-of-type {\n",
              "        vertical-align: middle;\n",
              "    }\n",
              "\n",
              "    .dataframe tbody tr th {\n",
              "        vertical-align: top;\n",
              "    }\n",
              "\n",
              "    .dataframe thead th {\n",
              "        text-align: right;\n",
              "    }\n",
              "</style>\n",
              "<table border=\"1\" class=\"dataframe\">\n",
              "  <thead>\n",
              "    <tr style=\"text-align: right;\">\n",
              "      <th></th>\n",
              "      <th>sma_fast</th>\n",
              "      <th>sma_fast_sqr</th>\n",
              "      <th>sma_fast_sin</th>\n",
              "      <th>sma_slow</th>\n",
              "      <th>sma_slow_sqr</th>\n",
              "      <th>sma_slow_sin</th>\n",
              "    </tr>\n",
              "    <tr>\n",
              "      <th>date</th>\n",
              "      <th></th>\n",
              "      <th></th>\n",
              "      <th></th>\n",
              "      <th></th>\n",
              "      <th></th>\n",
              "      <th></th>\n",
              "    </tr>\n",
              "  </thead>\n",
              "  <tbody>\n",
              "    <tr>\n",
              "      <th>2018-10-24 15:15:00</th>\n",
              "      <td>15.65250</td>\n",
              "      <td>245.000756</td>\n",
              "      <td>0.055435</td>\n",
              "      <td>16.3403</td>\n",
              "      <td>267.005404</td>\n",
              "      <td>-0.591031</td>\n",
              "    </tr>\n",
              "    <tr>\n",
              "      <th>2018-10-24 15:30:00</th>\n",
              "      <td>15.61875</td>\n",
              "      <td>243.945352</td>\n",
              "      <td>0.089095</td>\n",
              "      <td>16.3216</td>\n",
              "      <td>266.394627</td>\n",
              "      <td>-0.575845</td>\n",
              "    </tr>\n",
              "    <tr>\n",
              "      <th>2018-10-24 15:45:00</th>\n",
              "      <td>15.55375</td>\n",
              "      <td>241.919139</td>\n",
              "      <td>0.153603</td>\n",
              "      <td>16.3029</td>\n",
              "      <td>265.784548</td>\n",
              "      <td>-0.560456</td>\n",
              "    </tr>\n",
              "    <tr>\n",
              "      <th>2018-10-25 09:30:00</th>\n",
              "      <td>15.47625</td>\n",
              "      <td>239.514314</td>\n",
              "      <td>0.229645</td>\n",
              "      <td>16.2844</td>\n",
              "      <td>265.181683</td>\n",
              "      <td>-0.545040</td>\n",
              "    </tr>\n",
              "    <tr>\n",
              "      <th>2018-10-25 09:45:00</th>\n",
              "      <td>15.40250</td>\n",
              "      <td>237.237006</td>\n",
              "      <td>0.300735</td>\n",
              "      <td>16.2656</td>\n",
              "      <td>264.569743</td>\n",
              "      <td>-0.529182</td>\n",
              "    </tr>\n",
              "  </tbody>\n",
              "</table>\n",
              "</div>"
            ],
            "text/plain": [
              "                     sma_fast  sma_fast_sqr  ...  sma_slow_sqr  sma_slow_sin\n",
              "date                                         ...                            \n",
              "2018-10-24 15:15:00  15.65250    245.000756  ...    267.005404     -0.591031\n",
              "2018-10-24 15:30:00  15.61875    243.945352  ...    266.394627     -0.575845\n",
              "2018-10-24 15:45:00  15.55375    241.919139  ...    265.784548     -0.560456\n",
              "2018-10-25 09:30:00  15.47625    239.514314  ...    265.181683     -0.545040\n",
              "2018-10-25 09:45:00  15.40250    237.237006  ...    264.569743     -0.529182\n",
              "\n",
              "[5 rows x 6 columns]"
            ]
          },
          "metadata": {}
        },
        {
          "output_type": "display_data",
          "data": {
            "text/html": [
              "<div>\n",
              "<style scoped>\n",
              "    .dataframe tbody tr th:only-of-type {\n",
              "        vertical-align: middle;\n",
              "    }\n",
              "\n",
              "    .dataframe tbody tr th {\n",
              "        vertical-align: top;\n",
              "    }\n",
              "\n",
              "    .dataframe thead th {\n",
              "        text-align: right;\n",
              "    }\n",
              "</style>\n",
              "<table border=\"1\" class=\"dataframe\">\n",
              "  <thead>\n",
              "    <tr style=\"text-align: right;\">\n",
              "      <th></th>\n",
              "      <th>sma_fast</th>\n",
              "      <th>sma_fast_sqr</th>\n",
              "      <th>sma_fast_sin</th>\n",
              "      <th>sma_slow</th>\n",
              "      <th>sma_slow_sqr</th>\n",
              "      <th>sma_slow_sin</th>\n",
              "    </tr>\n",
              "    <tr>\n",
              "      <th>date</th>\n",
              "      <th></th>\n",
              "      <th></th>\n",
              "      <th></th>\n",
              "      <th></th>\n",
              "      <th></th>\n",
              "      <th></th>\n",
              "    </tr>\n",
              "  </thead>\n",
              "  <tbody>\n",
              "    <tr>\n",
              "      <th>2020-09-04 14:45:00</th>\n",
              "      <td>6.22625</td>\n",
              "      <td>38.766189</td>\n",
              "      <td>-0.056905</td>\n",
              "      <td>6.27210</td>\n",
              "      <td>39.339238</td>\n",
              "      <td>-0.011085</td>\n",
              "    </tr>\n",
              "    <tr>\n",
              "      <th>2020-09-04 15:00:00</th>\n",
              "      <td>6.22875</td>\n",
              "      <td>38.797327</td>\n",
              "      <td>-0.054408</td>\n",
              "      <td>6.27030</td>\n",
              "      <td>39.316662</td>\n",
              "      <td>-0.012885</td>\n",
              "    </tr>\n",
              "    <tr>\n",
              "      <th>2020-09-04 15:15:00</th>\n",
              "      <td>6.23875</td>\n",
              "      <td>38.922002</td>\n",
              "      <td>-0.044421</td>\n",
              "      <td>6.26985</td>\n",
              "      <td>39.311019</td>\n",
              "      <td>-0.013335</td>\n",
              "    </tr>\n",
              "    <tr>\n",
              "      <th>2020-09-04 15:30:00</th>\n",
              "      <td>6.25125</td>\n",
              "      <td>39.078127</td>\n",
              "      <td>-0.031930</td>\n",
              "      <td>6.26910</td>\n",
              "      <td>39.301615</td>\n",
              "      <td>-0.014085</td>\n",
              "    </tr>\n",
              "    <tr>\n",
              "      <th>2020-09-04 15:45:00</th>\n",
              "      <td>6.25750</td>\n",
              "      <td>39.156306</td>\n",
              "      <td>-0.025682</td>\n",
              "      <td>6.26855</td>\n",
              "      <td>39.294719</td>\n",
              "      <td>-0.014635</td>\n",
              "    </tr>\n",
              "  </tbody>\n",
              "</table>\n",
              "</div>"
            ],
            "text/plain": [
              "                     sma_fast  sma_fast_sqr  ...  sma_slow_sqr  sma_slow_sin\n",
              "date                                         ...                            \n",
              "2020-09-04 14:45:00   6.22625     38.766189  ...     39.339238     -0.011085\n",
              "2020-09-04 15:00:00   6.22875     38.797327  ...     39.316662     -0.012885\n",
              "2020-09-04 15:15:00   6.23875     38.922002  ...     39.311019     -0.013335\n",
              "2020-09-04 15:30:00   6.25125     39.078127  ...     39.301615     -0.014085\n",
              "2020-09-04 15:45:00   6.25750     39.156306  ...     39.294719     -0.014635\n",
              "\n",
              "[5 rows x 6 columns]"
            ]
          },
          "metadata": {}
        }
      ]
    },
    {
      "cell_type": "markdown",
      "metadata": {
        "id": "ArCSlMmLcXpk"
      },
      "source": [
        "### Creating the Target Set"
      ]
    },
    {
      "cell_type": "code",
      "metadata": {
        "colab": {
          "base_uri": "https://localhost:8080/",
          "height": 527
        },
        "id": "G2vArB9fcXpk",
        "outputId": "4013baaf-0507-42f8-b54d-516b7ebc6b72"
      },
      "source": [
        "# Create a new column in the `trading_df` called \"signal\" setting its value to zero.\n",
        "trading_df[\"signal\"] = 0.0\n",
        "trading_df.head()"
      ],
      "execution_count": null,
      "outputs": [
        {
          "output_type": "stream",
          "name": "stderr",
          "text": [
            "/usr/local/lib/python3.7/dist-packages/ipykernel_launcher.py:2: SettingWithCopyWarning: \n",
            "A value is trying to be set on a copy of a slice from a DataFrame.\n",
            "Try using .loc[row_indexer,col_indexer] = value instead\n",
            "\n",
            "See the caveats in the documentation: https://pandas.pydata.org/pandas-docs/stable/user_guide/indexing.html#returning-a-view-versus-a-copy\n",
            "  \n"
          ]
        },
        {
          "output_type": "execute_result",
          "data": {
            "text/html": [
              "<div>\n",
              "<style scoped>\n",
              "    .dataframe tbody tr th:only-of-type {\n",
              "        vertical-align: middle;\n",
              "    }\n",
              "\n",
              "    .dataframe tbody tr th {\n",
              "        vertical-align: top;\n",
              "    }\n",
              "\n",
              "    .dataframe thead th {\n",
              "        text-align: right;\n",
              "    }\n",
              "</style>\n",
              "<table border=\"1\" class=\"dataframe\">\n",
              "  <thead>\n",
              "    <tr style=\"text-align: right;\">\n",
              "      <th></th>\n",
              "      <th>open</th>\n",
              "      <th>high</th>\n",
              "      <th>low</th>\n",
              "      <th>close</th>\n",
              "      <th>volume</th>\n",
              "      <th>actual_returns</th>\n",
              "      <th>sma_fast</th>\n",
              "      <th>sma_slow</th>\n",
              "      <th>sma_fast_sqr</th>\n",
              "      <th>sma_slow_sqr</th>\n",
              "      <th>sma_fast_sin</th>\n",
              "      <th>sma_slow_sin</th>\n",
              "      <th>signal</th>\n",
              "    </tr>\n",
              "    <tr>\n",
              "      <th>date</th>\n",
              "      <th></th>\n",
              "      <th></th>\n",
              "      <th></th>\n",
              "      <th></th>\n",
              "      <th></th>\n",
              "      <th></th>\n",
              "      <th></th>\n",
              "      <th></th>\n",
              "      <th></th>\n",
              "      <th></th>\n",
              "      <th></th>\n",
              "      <th></th>\n",
              "      <th></th>\n",
              "    </tr>\n",
              "  </thead>\n",
              "  <tbody>\n",
              "    <tr>\n",
              "      <th>2018-10-24 15:00:00</th>\n",
              "      <td>15.66</td>\n",
              "      <td>15.66</td>\n",
              "      <td>15.600</td>\n",
              "      <td>15.615</td>\n",
              "      <td>80027</td>\n",
              "      <td>-0.002874</td>\n",
              "      <td>15.65250</td>\n",
              "      <td>16.3403</td>\n",
              "      <td>245.000756</td>\n",
              "      <td>267.005404</td>\n",
              "      <td>0.055435</td>\n",
              "      <td>-0.591031</td>\n",
              "      <td>0.0</td>\n",
              "    </tr>\n",
              "    <tr>\n",
              "      <th>2018-10-24 15:15:00</th>\n",
              "      <td>15.63</td>\n",
              "      <td>15.66</td>\n",
              "      <td>15.520</td>\n",
              "      <td>15.530</td>\n",
              "      <td>76449</td>\n",
              "      <td>-0.005443</td>\n",
              "      <td>15.61875</td>\n",
              "      <td>16.3216</td>\n",
              "      <td>243.945352</td>\n",
              "      <td>266.394627</td>\n",
              "      <td>0.089095</td>\n",
              "      <td>-0.575845</td>\n",
              "      <td>0.0</td>\n",
              "    </tr>\n",
              "    <tr>\n",
              "      <th>2018-10-24 15:30:00</th>\n",
              "      <td>15.54</td>\n",
              "      <td>15.54</td>\n",
              "      <td>15.180</td>\n",
              "      <td>15.410</td>\n",
              "      <td>137468</td>\n",
              "      <td>-0.007727</td>\n",
              "      <td>15.55375</td>\n",
              "      <td>16.3029</td>\n",
              "      <td>241.919139</td>\n",
              "      <td>265.784548</td>\n",
              "      <td>0.153603</td>\n",
              "      <td>-0.560456</td>\n",
              "      <td>0.0</td>\n",
              "    </tr>\n",
              "    <tr>\n",
              "      <th>2018-10-24 15:45:00</th>\n",
              "      <td>15.41</td>\n",
              "      <td>15.42</td>\n",
              "      <td>15.350</td>\n",
              "      <td>15.350</td>\n",
              "      <td>688995</td>\n",
              "      <td>-0.003894</td>\n",
              "      <td>15.47625</td>\n",
              "      <td>16.2844</td>\n",
              "      <td>239.514314</td>\n",
              "      <td>265.181683</td>\n",
              "      <td>0.229645</td>\n",
              "      <td>-0.545040</td>\n",
              "      <td>0.0</td>\n",
              "    </tr>\n",
              "    <tr>\n",
              "      <th>2018-10-25 09:30:00</th>\n",
              "      <td>15.55</td>\n",
              "      <td>15.55</td>\n",
              "      <td>15.205</td>\n",
              "      <td>15.320</td>\n",
              "      <td>44387</td>\n",
              "      <td>-0.001954</td>\n",
              "      <td>15.40250</td>\n",
              "      <td>16.2656</td>\n",
              "      <td>237.237006</td>\n",
              "      <td>264.569743</td>\n",
              "      <td>0.300735</td>\n",
              "      <td>-0.529182</td>\n",
              "      <td>0.0</td>\n",
              "    </tr>\n",
              "  </tbody>\n",
              "</table>\n",
              "</div>"
            ],
            "text/plain": [
              "                      open   high     low  ...  sma_fast_sin  sma_slow_sin  signal\n",
              "date                                       ...                                    \n",
              "2018-10-24 15:00:00  15.66  15.66  15.600  ...      0.055435     -0.591031     0.0\n",
              "2018-10-24 15:15:00  15.63  15.66  15.520  ...      0.089095     -0.575845     0.0\n",
              "2018-10-24 15:30:00  15.54  15.54  15.180  ...      0.153603     -0.560456     0.0\n",
              "2018-10-24 15:45:00  15.41  15.42  15.350  ...      0.229645     -0.545040     0.0\n",
              "2018-10-25 09:30:00  15.55  15.55  15.205  ...      0.300735     -0.529182     0.0\n",
              "\n",
              "[5 rows x 13 columns]"
            ]
          },
          "metadata": {},
          "execution_count": 26
        }
      ]
    },
    {
      "cell_type": "code",
      "metadata": {
        "colab": {
          "base_uri": "https://localhost:8080/"
        },
        "id": "Zcpo6dppcXpk",
        "outputId": "59458c6d-e29c-4b3a-fa30-c8276112435a"
      },
      "source": [
        "# Create the signal to buy\n",
        "trading_df.loc[(trading_df[\"actual_returns\"] >= 0), \"signal\"] = 1"
      ],
      "execution_count": null,
      "outputs": [
        {
          "output_type": "stream",
          "name": "stderr",
          "text": [
            "/usr/local/lib/python3.7/dist-packages/pandas/core/indexing.py:1763: SettingWithCopyWarning: \n",
            "A value is trying to be set on a copy of a slice from a DataFrame.\n",
            "Try using .loc[row_indexer,col_indexer] = value instead\n",
            "\n",
            "See the caveats in the documentation: https://pandas.pydata.org/pandas-docs/stable/user_guide/indexing.html#returning-a-view-versus-a-copy\n",
            "  isetter(loc, value)\n"
          ]
        }
      ]
    },
    {
      "cell_type": "code",
      "metadata": {
        "id": "XcQOEyaacXpl"
      },
      "source": [
        "# Create the signal to sell\n",
        "trading_df.loc[(trading_df[\"actual_returns\"] < 0), \"signal\"] = -1"
      ],
      "execution_count": null,
      "outputs": []
    },
    {
      "cell_type": "code",
      "metadata": {
        "id": "4U94_y9GcXpl"
      },
      "source": [
        "# Copy the new \"signal\" column to a new Series called `y`.\n",
        "y = trading_df[\"signal\"].copy()"
      ],
      "execution_count": null,
      "outputs": []
    },
    {
      "cell_type": "markdown",
      "metadata": {
        "id": "z7RYRkhKcXpl"
      },
      "source": [
        "## Split the Data into Training and Testing Sets"
      ]
    },
    {
      "cell_type": "code",
      "metadata": {
        "id": "IBLcxGR2cXpm"
      },
      "source": [
        "# Import required libraries\n",
        "from pandas.tseries.offsets import DateOffset"
      ],
      "execution_count": null,
      "outputs": []
    },
    {
      "cell_type": "code",
      "metadata": {
        "colab": {
          "base_uri": "https://localhost:8080/"
        },
        "id": "fMvE6ucZcXpm",
        "outputId": "5e997074-2e02-4c07-e0fd-0f9a35d28f7f"
      },
      "source": [
        "# Select the start of the training period\n",
        "training_begin = X.index.min()\n",
        "\n",
        "# Display the training begin date\n",
        "print(training_begin)"
      ],
      "execution_count": null,
      "outputs": [
        {
          "output_type": "stream",
          "name": "stdout",
          "text": [
            "2018-10-24 15:15:00\n"
          ]
        }
      ]
    },
    {
      "cell_type": "code",
      "metadata": {
        "colab": {
          "base_uri": "https://localhost:8080/"
        },
        "id": "3RGD3vXVcXpm",
        "outputId": "b5a0b3b5-cefb-46b4-8adf-731f26e36868"
      },
      "source": [
        "# Select the ending period for the training data with an offset of 3 months\n",
        "training_end = X.index.min() + DateOffset(months=3)\n",
        "\n",
        "# Display the training end date\n",
        "print(training_end)"
      ],
      "execution_count": null,
      "outputs": [
        {
          "output_type": "stream",
          "name": "stdout",
          "text": [
            "2019-01-24 15:15:00\n"
          ]
        }
      ]
    },
    {
      "cell_type": "code",
      "metadata": {
        "id": "l8lVtgYJcXpm"
      },
      "source": [
        "# Generate the X_train and y_train DataFrames\n",
        "X_train = X.loc[training_begin:training_end]\n",
        "y_train = y.loc[training_begin:training_end]"
      ],
      "execution_count": null,
      "outputs": []
    },
    {
      "cell_type": "code",
      "metadata": {
        "id": "YiHNqMYVcXpn"
      },
      "source": [
        "# Generate the X_test and y_test DataFrames\n",
        "X_test = X.loc[training_end:]\n",
        "y_test = y.loc[training_end:]"
      ],
      "execution_count": null,
      "outputs": []
    },
    {
      "cell_type": "markdown",
      "metadata": {
        "id": "5dMRLEtUcXpn"
      },
      "source": [
        "## Standardize the Data"
      ]
    },
    {
      "cell_type": "code",
      "metadata": {
        "id": "ltl3h9eScXpn"
      },
      "source": [
        "# Import required libraries\n",
        "from sklearn.preprocessing import StandardScaler"
      ],
      "execution_count": null,
      "outputs": []
    },
    {
      "cell_type": "code",
      "metadata": {
        "id": "BD-BoXjVcXpo"
      },
      "source": [
        "# Create a StandardScaler instance\n",
        "scaler = StandardScaler()\n",
        " \n",
        "# Apply the scaler model to fit the X-train data\n",
        "X_scaler = scaler.fit(X_train)\n",
        " \n",
        "# Transform the X_train and X_test DataFrames using the X_scaler\n",
        "X_train_scaled = X_scaler.transform(X_train)\n",
        "X_test_scaled = X_scaler.transform(X_test)"
      ],
      "execution_count": null,
      "outputs": []
    },
    {
      "cell_type": "markdown",
      "metadata": {
        "id": "GYq5cr1tcXpo"
      },
      "source": [
        "---\n",
        "\n",
        "## Using Machine Learning Into a Trading Strategy"
      ]
    },
    {
      "cell_type": "code",
      "metadata": {
        "id": "9wmjN_rAcXpo"
      },
      "source": [
        "# Import the SVM model\n",
        "from sklearn import svm\n",
        "from sklearn.metrics import classification_report"
      ],
      "execution_count": null,
      "outputs": []
    },
    {
      "cell_type": "code",
      "metadata": {
        "colab": {
          "base_uri": "https://localhost:8080/"
        },
        "id": "Wrl-DAGlcXpo",
        "outputId": "2c18b9a8-bc11-4d64-ad58-6ffaecd4b8d3"
      },
      "source": [
        "# Create the classifier model\n",
        "svm_model = svm.SVC() \n",
        "# Fit the model to the data using X_train_scaled and y_train\n",
        "svm_model = svm_model.fit(X_train_scaled, y_train)\n",
        "# Use the trained model to predict the trading signals for the training data\n",
        "training_signal_predictions = svm_model.predict(X_train_scaled)\n",
        "# Display the sample predictions\n",
        "training_signal_predictions[:10]"
      ],
      "execution_count": null,
      "outputs": [
        {
          "output_type": "execute_result",
          "data": {
            "text/plain": [
              "array([-1., -1., -1., -1., -1., -1., -1., -1., -1., -1.])"
            ]
          },
          "metadata": {},
          "execution_count": 38
        }
      ]
    },
    {
      "cell_type": "code",
      "metadata": {
        "colab": {
          "base_uri": "https://localhost:8080/"
        },
        "id": "N0hokY2ocXpo",
        "outputId": "eedcce67-34bd-4109-d96f-f944be41264c"
      },
      "source": [
        "# Evaluate the model using a classification report\n",
        "training_report = classification_report(y_train, training_signal_predictions)\n",
        "# Display the report\n",
        "print(training_report)"
      ],
      "execution_count": null,
      "outputs": [
        {
          "output_type": "stream",
          "name": "stdout",
          "text": [
            "              precision    recall  f1-score   support\n",
            "\n",
            "        -1.0       0.53      0.19      0.27       740\n",
            "         1.0       0.52      0.84      0.64       777\n",
            "\n",
            "    accuracy                           0.52      1517\n",
            "   macro avg       0.52      0.51      0.46      1517\n",
            "weighted avg       0.52      0.52      0.46      1517\n",
            "\n"
          ]
        }
      ]
    },
    {
      "cell_type": "markdown",
      "metadata": {
        "id": "OIpAl5Y8cXpp"
      },
      "source": [
        "### Backtesting a Machine Learning Trading Algorithm"
      ]
    },
    {
      "cell_type": "code",
      "metadata": {
        "id": "YzYDWSM5cXpp"
      },
      "source": [
        "# Use the trained model to predict the trading signals for the testing data.\n",
        "testing_signal_predictions = svm_model.predict(X_test_scaled)"
      ],
      "execution_count": null,
      "outputs": []
    },
    {
      "cell_type": "code",
      "metadata": {
        "colab": {
          "base_uri": "https://localhost:8080/"
        },
        "id": "bnum1fuQcXpp",
        "outputId": "9a736fed-c00b-47af-dd2d-7669be18737a"
      },
      "source": [
        "# Evaluate the model's ability to predict the trading signal for the testing data\n",
        "testing_report = classification_report(y_test, testing_signal_predictions)\n",
        "\n",
        "# Display the report\n",
        "print(testing_report)"
      ],
      "execution_count": null,
      "outputs": [
        {
          "output_type": "stream",
          "name": "stdout",
          "text": [
            "              precision    recall  f1-score   support\n",
            "\n",
            "        -1.0       0.48      0.01      0.02      4894\n",
            "         1.0       0.53      0.99      0.69      5558\n",
            "\n",
            "    accuracy                           0.53     10452\n",
            "   macro avg       0.51      0.50      0.36     10452\n",
            "weighted avg       0.51      0.53      0.38     10452\n",
            "\n"
          ]
        }
      ]
    },
    {
      "cell_type": "markdown",
      "metadata": {
        "id": "ufExgn22cXpp"
      },
      "source": [
        "### Visually Compare the Actual and Predicted Returns"
      ]
    },
    {
      "cell_type": "code",
      "metadata": {
        "colab": {
          "base_uri": "https://localhost:8080/"
        },
        "id": "_t6x0GWqcXpp",
        "outputId": "c0edaa04-d9b3-4f1c-9675-a22dfb1b0ffd"
      },
      "source": [
        "# Create a predictions DataFrame\n",
        "predictions_df = pd.DataFrame(index=X_test.index)\n",
        "\n",
        "predictions_df[\"predicted_signal\"] = testing_signal_predictions\n",
        "\n",
        "predictions_df[\"actual_returns\"] = trading_df[\"actual_returns\"]\n",
        "\n",
        "predictions_df[\"trading_algorithm_returns\"] = (predictions_df[\"actual_returns\"] * predictions_df[\"predicted_signal\"])\n",
        "\n",
        "# Review the DataFrame\n",
        "predictions_df"
      ],
      "execution_count": null,
      "outputs": [
        {
          "output_type": "execute_result",
          "data": {
            "text/html": [
              "<div>\n",
              "<style scoped>\n",
              "    .dataframe tbody tr th:only-of-type {\n",
              "        vertical-align: middle;\n",
              "    }\n",
              "\n",
              "    .dataframe tbody tr th {\n",
              "        vertical-align: top;\n",
              "    }\n",
              "\n",
              "    .dataframe thead th {\n",
              "        text-align: right;\n",
              "    }\n",
              "</style>\n",
              "<table border=\"1\" class=\"dataframe\">\n",
              "  <thead>\n",
              "    <tr style=\"text-align: right;\">\n",
              "      <th></th>\n",
              "      <th>predicted_signal</th>\n",
              "      <th>actual_returns</th>\n",
              "      <th>trading_algorithm_returns</th>\n",
              "    </tr>\n",
              "    <tr>\n",
              "      <th>date</th>\n",
              "      <th></th>\n",
              "      <th></th>\n",
              "      <th></th>\n",
              "    </tr>\n",
              "  </thead>\n",
              "  <tbody>\n",
              "    <tr>\n",
              "      <th>2019-01-24 15:15:00</th>\n",
              "      <td>1.0</td>\n",
              "      <td>0.001412</td>\n",
              "      <td>0.001412</td>\n",
              "    </tr>\n",
              "    <tr>\n",
              "      <th>2019-01-24 15:30:00</th>\n",
              "      <td>1.0</td>\n",
              "      <td>-0.001410</td>\n",
              "      <td>-0.001410</td>\n",
              "    </tr>\n",
              "    <tr>\n",
              "      <th>2019-01-24 15:45:00</th>\n",
              "      <td>1.0</td>\n",
              "      <td>-0.003531</td>\n",
              "      <td>-0.003531</td>\n",
              "    </tr>\n",
              "    <tr>\n",
              "      <th>2019-01-25 09:30:00</th>\n",
              "      <td>1.0</td>\n",
              "      <td>0.009922</td>\n",
              "      <td>0.009922</td>\n",
              "    </tr>\n",
              "    <tr>\n",
              "      <th>2019-01-25 09:45:00</th>\n",
              "      <td>1.0</td>\n",
              "      <td>0.002105</td>\n",
              "      <td>0.002105</td>\n",
              "    </tr>\n",
              "    <tr>\n",
              "      <th>...</th>\n",
              "      <td>...</td>\n",
              "      <td>...</td>\n",
              "      <td>...</td>\n",
              "    </tr>\n",
              "    <tr>\n",
              "      <th>2020-09-04 14:45:00</th>\n",
              "      <td>1.0</td>\n",
              "      <td>0.003210</td>\n",
              "      <td>0.003210</td>\n",
              "    </tr>\n",
              "    <tr>\n",
              "      <th>2020-09-04 15:00:00</th>\n",
              "      <td>1.0</td>\n",
              "      <td>0.000000</td>\n",
              "      <td>0.000000</td>\n",
              "    </tr>\n",
              "    <tr>\n",
              "      <th>2020-09-04 15:15:00</th>\n",
              "      <td>1.0</td>\n",
              "      <td>0.004000</td>\n",
              "      <td>0.004000</td>\n",
              "    </tr>\n",
              "    <tr>\n",
              "      <th>2020-09-04 15:30:00</th>\n",
              "      <td>1.0</td>\n",
              "      <td>-0.003187</td>\n",
              "      <td>-0.003187</td>\n",
              "    </tr>\n",
              "    <tr>\n",
              "      <th>2020-09-04 15:45:00</th>\n",
              "      <td>1.0</td>\n",
              "      <td>-0.000799</td>\n",
              "      <td>-0.000799</td>\n",
              "    </tr>\n",
              "  </tbody>\n",
              "</table>\n",
              "<p>10452 rows × 3 columns</p>\n",
              "</div>"
            ],
            "text/plain": [
              "                     predicted_signal  ...  trading_algorithm_returns\n",
              "date                                   ...                           \n",
              "2019-01-24 15:15:00               1.0  ...                   0.001412\n",
              "2019-01-24 15:30:00               1.0  ...                  -0.001410\n",
              "2019-01-24 15:45:00               1.0  ...                  -0.003531\n",
              "2019-01-25 09:30:00               1.0  ...                   0.009922\n",
              "2019-01-25 09:45:00               1.0  ...                   0.002105\n",
              "...                               ...  ...                        ...\n",
              "2020-09-04 14:45:00               1.0  ...                   0.003210\n",
              "2020-09-04 15:00:00               1.0  ...                   0.000000\n",
              "2020-09-04 15:15:00               1.0  ...                   0.004000\n",
              "2020-09-04 15:30:00               1.0  ...                  -0.003187\n",
              "2020-09-04 15:45:00               1.0  ...                  -0.000799\n",
              "\n",
              "[10452 rows x 3 columns]"
            ]
          },
          "metadata": {},
          "execution_count": 42
        }
      ]
    },
    {
      "cell_type": "code",
      "metadata": {
        "colab": {
          "base_uri": "https://localhost:8080/"
        },
        "id": "2MSfCLtCcXpq",
        "outputId": "de5a556e-c1f9-45d2-fa63-c11c32a61e85"
      },
      "source": [
        "# Calculate and plot the cumulative returns for the `actual_returns` and the `trading_algorithm_returns`\n",
        "(1 + predictions_df[[\"actual_returns\", \"trading_algorithm_returns\"]]).cumprod().plot()"
      ],
      "execution_count": null,
      "outputs": [
        {
          "output_type": "execute_result",
          "data": {
            "text/plain": [
              "<matplotlib.axes._subplots.AxesSubplot at 0x7f26bb117250>"
            ]
          },
          "metadata": {},
          "execution_count": 43
        },
        {
          "output_type": "display_data",
          "data": {
            "image/png": "[encoded data removed]",
            "text/plain": [
              "<Figure size 432x288 with 1 Axes>"
            ]
          },
          "metadata": {
            "needs_background": "light"
          }
        }
      ]
    },
    {
      "cell_type": "markdown",
      "metadata": {
        "id": "CRT08-LlcXpq"
      },
      "source": [
        "## the following are enhancements to the original code\n",
        "---\n",
        "inspired by Tarek Atwan (https://github.com/tatwan) .\\\n",
        "and Madhuri Panwar\n",
        "\n"
      ]
    },
    {
      "cell_type": "code",
      "metadata": {
        "colab": {
          "base_uri": "https://localhost:8080/"
        },
        "id": "p4jLTCT3cXpq",
        "outputId": "2bfe8691-9d0b-4591-d9e0-293aac690a49"
      },
      "source": [
        "# model evaluation\n",
        "test_report = classification_report(y_test, testing_signal_predictions)\n",
        "# Display the report\n",
        "print(test_report)"
      ],
      "execution_count": null,
      "outputs": [
        {
          "output_type": "stream",
          "name": "stdout",
          "text": [
            "              precision    recall  f1-score   support\n",
            "\n",
            "        -1.0       0.48      0.01      0.02      4894\n",
            "         1.0       0.53      0.99      0.69      5558\n",
            "\n",
            "    accuracy                           0.53     10452\n",
            "   macro avg       0.51      0.50      0.36     10452\n",
            "weighted avg       0.51      0.53      0.38     10452\n",
            "\n"
          ]
        }
      ]
    },
    {
      "cell_type": "code",
      "metadata": {
        "id": "XOdM_rT0cXpq"
      },
      "source": [
        "def train_predict(learner, X_train, y_train, X_test, y_test):\n",
        "    '''\n",
        "    learner: the learning algorithm\n",
        "    '''\n",
        "    # fit the learner to the training data \n",
        "    learner=learner.fit(X_train, y_train)\n",
        "    prediction_train=learner.predict(X_train)\n",
        "    prediction_test=learner.predict(X_test)\n",
        "    print('------------classification report of training data-----------')\n",
        "    print(classification_report(y_train, prediction_train))\n",
        "    print('------------classification report of testing data-----------')\n",
        "    print(classification_report(y_test, prediction_test))\n"
      ],
      "execution_count": null,
      "outputs": []
    },
    {
      "cell_type": "code",
      "metadata": {
        "id": "oIp92PXvcXpq"
      },
      "source": [
        "from sklearn. linear_model import LogisticRegression\n",
        "from sklearn.tree import DecisionTreeClassifier\n",
        "from sklearn.ensemble import AdaBoostClassifier, RandomForestClassifier\n",
        "from sklearn.svm import SVC \n",
        "\n",
        "m_LR=LogisticRegression()\n",
        "m_DT=DecisionTreeClassifier()\n",
        "m_AB=AdaBoostClassifier()\n",
        "m_RF=RandomForestClassifier()"
      ],
      "execution_count": null,
      "outputs": []
    },
    {
      "cell_type": "code",
      "metadata": {
        "colab": {
          "base_uri": "https://localhost:8080/"
        },
        "id": "p2OkSDIOcXpq",
        "outputId": "7ea5b1a6-9463-4641-9db7-642f44901019"
      },
      "source": [
        "for model in [m_LR, m_DT, m_AB, m_RF]:\n",
        "    model_name=model.__class__.__name__\n",
        "    print(model_name)\n",
        "    train_predict(model, X_train_scaled, y_train, X_test_scaled, y_test)"
      ],
      "execution_count": null,
      "outputs": [
        {
          "output_type": "stream",
          "name": "stdout",
          "text": [
            "LogisticRegression\n",
            "------------classification report of training data-----------\n",
            "              precision    recall  f1-score   support\n",
            "\n",
            "        -1.0       0.51      0.22      0.31       740\n",
            "         1.0       0.52      0.80      0.63       777\n",
            "\n",
            "    accuracy                           0.52      1517\n",
            "   macro avg       0.52      0.51      0.47      1517\n",
            "weighted avg       0.52      0.52      0.47      1517\n",
            "\n",
            "------------classification report of testing data-----------\n",
            "              precision    recall  f1-score   support\n",
            "\n",
            "        -1.0       0.47      0.36      0.41      4894\n",
            "         1.0       0.53      0.64      0.58      5558\n",
            "\n",
            "    accuracy                           0.51     10452\n",
            "   macro avg       0.50      0.50      0.50     10452\n",
            "weighted avg       0.50      0.51      0.50     10452\n",
            "\n",
            "DecisionTreeClassifier\n",
            "------------classification report of training data-----------\n",
            "              precision    recall  f1-score   support\n",
            "\n",
            "        -1.0       1.00      1.00      1.00       740\n",
            "         1.0       1.00      1.00      1.00       777\n",
            "\n",
            "    accuracy                           1.00      1517\n",
            "   macro avg       1.00      1.00      1.00      1517\n",
            "weighted avg       1.00      1.00      1.00      1517\n",
            "\n",
            "------------classification report of testing data-----------\n",
            "              precision    recall  f1-score   support\n",
            "\n",
            "        -1.0       0.46      0.29      0.35      4894\n",
            "         1.0       0.53      0.71      0.60      5558\n",
            "\n",
            "    accuracy                           0.51     10452\n",
            "   macro avg       0.50      0.50      0.48     10452\n",
            "weighted avg       0.50      0.51      0.49     10452\n",
            "\n",
            "AdaBoostClassifier\n",
            "------------classification report of training data-----------\n",
            "              precision    recall  f1-score   support\n",
            "\n",
            "        -1.0       0.61      0.49      0.55       740\n",
            "         1.0       0.59      0.70      0.64       777\n",
            "\n",
            "    accuracy                           0.60      1517\n",
            "   macro avg       0.60      0.60      0.59      1517\n",
            "weighted avg       0.60      0.60      0.60      1517\n",
            "\n",
            "------------classification report of testing data-----------\n",
            "              precision    recall  f1-score   support\n",
            "\n",
            "        -1.0       0.47      0.16      0.24      4894\n",
            "         1.0       0.53      0.84      0.65      5558\n",
            "\n",
            "    accuracy                           0.52     10452\n",
            "   macro avg       0.50      0.50      0.45     10452\n",
            "weighted avg       0.50      0.52      0.46     10452\n",
            "\n",
            "RandomForestClassifier\n",
            "------------classification report of training data-----------\n",
            "              precision    recall  f1-score   support\n",
            "\n",
            "        -1.0       1.00      1.00      1.00       740\n",
            "         1.0       1.00      1.00      1.00       777\n",
            "\n",
            "    accuracy                           1.00      1517\n",
            "   macro avg       1.00      1.00      1.00      1517\n",
            "weighted avg       1.00      1.00      1.00      1517\n",
            "\n",
            "------------classification report of testing data-----------\n",
            "              precision    recall  f1-score   support\n",
            "\n",
            "        -1.0       0.47      0.57      0.52      4894\n",
            "         1.0       0.54      0.44      0.48      5558\n",
            "\n",
            "    accuracy                           0.50     10452\n",
            "   macro avg       0.50      0.50      0.50     10452\n",
            "weighted avg       0.51      0.50      0.50     10452\n",
            "\n"
          ]
        }
      ]
    },
    {
      "cell_type": "code",
      "metadata": {
        "colab": {
          "base_uri": "https://localhost:8080/"
        },
        "id": "oW1Ff6yycXpr",
        "outputId": "74b74c72-ce3b-49db-d375-071b8ae7c5c0"
      },
      "source": [
        "!pip install tensorflow"
      ],
      "execution_count": null,
      "outputs": [
        {
          "output_type": "stream",
          "name": "stdout",
          "text": [
            "Requirement already satisfied: tensorflow in /usr/local/lib/python3.7/dist-packages (2.7.0)\n",
            "Requirement already satisfied: flatbuffers<3.0,>=1.12 in /usr/local/lib/python3.7/dist-packages (from tensorflow) (2.0)\n",
            "Requirement already satisfied: absl-py>=0.4.0 in /usr/local/lib/python3.7/dist-packages (from tensorflow) (0.12.0)\n",
            "Requirement already satisfied: numpy>=1.14.5 in /usr/local/lib/python3.7/dist-packages (from tensorflow) (1.19.5)\n",
            "Requirement already satisfied: typing-extensions>=3.6.6 in /usr/local/lib/python3.7/dist-packages (from tensorflow) (3.10.0.2)\n",
            "Requirement already satisfied: wheel<1.0,>=0.32.0 in /usr/local/lib/python3.7/dist-packages (from tensorflow) (0.37.0)\n",
            "Requirement already satisfied: astunparse>=1.6.0 in /usr/local/lib/python3.7/dist-packages (from tensorflow) (1.6.3)\n",
            "Requirement already satisfied: grpcio<2.0,>=1.24.3 in /usr/local/lib/python3.7/dist-packages (from tensorflow) (1.41.1)\n",
            "Requirement already satisfied: keras-preprocessing>=1.1.1 in /usr/local/lib/python3.7/dist-packages (from tensorflow) (1.1.2)\n",
            "Requirement already satisfied: protobuf>=3.9.2 in /usr/local/lib/python3.7/dist-packages (from tensorflow) (3.17.3)\n",
            "Requirement already satisfied: opt-einsum>=2.3.2 in /usr/local/lib/python3.7/dist-packages (from tensorflow) (3.3.0)\n",
            "Requirement already satisfied: keras<2.8,>=2.7.0rc0 in /usr/local/lib/python3.7/dist-packages (from tensorflow) (2.7.0)\n",
            "Requirement already satisfied: google-pasta>=0.1.1 in /usr/local/lib/python3.7/dist-packages (from tensorflow) (0.2.0)\n",
            "Requirement already satisfied: six>=1.12.0 in /usr/local/lib/python3.7/dist-packages (from tensorflow) (1.15.0)\n",
            "Requirement already satisfied: tensorflow-io-gcs-filesystem>=0.21.0 in /usr/local/lib/python3.7/dist-packages (from tensorflow) (0.21.0)\n",
            "Requirement already satisfied: h5py>=2.9.0 in /usr/local/lib/python3.7/dist-packages (from tensorflow) (3.1.0)\n",
            "Requirement already satisfied: termcolor>=1.1.0 in /usr/local/lib/python3.7/dist-packages (from tensorflow) (1.1.0)\n",
            "Requirement already satisfied: tensorboard~=2.6 in /usr/local/lib/python3.7/dist-packages (from tensorflow) (2.7.0)\n",
            "Requirement already satisfied: gast<0.5.0,>=0.2.1 in /usr/local/lib/python3.7/dist-packages (from tensorflow) (0.4.0)\n",
            "Requirement already satisfied: libclang>=9.0.1 in /usr/local/lib/python3.7/dist-packages (from tensorflow) (12.0.0)\n",
            "Requirement already satisfied: wrapt>=1.11.0 in /usr/local/lib/python3.7/dist-packages (from tensorflow) (1.13.3)\n",
            "Requirement already satisfied: tensorflow-estimator<2.8,~=2.7.0rc0 in /usr/local/lib/python3.7/dist-packages (from tensorflow) (2.7.0)\n",
            "Requirement already satisfied: cached-property in /usr/local/lib/python3.7/dist-packages (from h5py>=2.9.0->tensorflow) (1.5.2)\n",
            "Requirement already satisfied: google-auth-oauthlib<0.5,>=0.4.1 in /usr/local/lib/python3.7/dist-packages (from tensorboard~=2.6->tensorflow) (0.4.6)\n",
            "Requirement already satisfied: setuptools>=41.0.0 in /usr/local/lib/python3.7/dist-packages (from tensorboard~=2.6->tensorflow) (57.4.0)\n",
            "Requirement already satisfied: tensorboard-plugin-wit>=1.6.0 in /usr/local/lib/python3.7/dist-packages (from tensorboard~=2.6->tensorflow) (1.8.0)\n",
            "Requirement already satisfied: google-auth<3,>=1.6.3 in /usr/local/lib/python3.7/dist-packages (from tensorboard~=2.6->tensorflow) (1.35.0)\n",
            "Requirement already satisfied: requests<3,>=2.21.0 in /usr/local/lib/python3.7/dist-packages (from tensorboard~=2.6->tensorflow) (2.23.0)\n",
            "Requirement already satisfied: werkzeug>=0.11.15 in /usr/local/lib/python3.7/dist-packages (from tensorboard~=2.6->tensorflow) (1.0.1)\n",
            "Requirement already satisfied: markdown>=2.6.8 in /usr/local/lib/python3.7/dist-packages (from tensorboard~=2.6->tensorflow) (3.3.4)\n",
            "Requirement already satisfied: tensorboard-data-server<0.7.0,>=0.6.0 in /usr/local/lib/python3.7/dist-packages (from tensorboard~=2.6->tensorflow) (0.6.1)\n",
            "Requirement already satisfied: cachetools<5.0,>=2.0.0 in /usr/local/lib/python3.7/dist-packages (from google-auth<3,>=1.6.3->tensorboard~=2.6->tensorflow) (4.2.4)\n",
            "Requirement already satisfied: rsa<5,>=3.1.4 in /usr/local/lib/python3.7/dist-packages (from google-auth<3,>=1.6.3->tensorboard~=2.6->tensorflow) (4.7.2)\n",
            "Requirement already satisfied: pyasn1-modules>=0.2.1 in /usr/local/lib/python3.7/dist-packages (from google-auth<3,>=1.6.3->tensorboard~=2.6->tensorflow) (0.2.8)\n",
            "Requirement already satisfied: requests-oauthlib>=0.7.0 in /usr/local/lib/python3.7/dist-packages (from google-auth-oauthlib<0.5,>=0.4.1->tensorboard~=2.6->tensorflow) (1.3.0)\n",
            "Requirement already satisfied: importlib-metadata in /usr/local/lib/python3.7/dist-packages (from markdown>=2.6.8->tensorboard~=2.6->tensorflow) (4.8.1)\n",
            "Requirement already satisfied: pyasn1<0.5.0,>=0.4.6 in /usr/local/lib/python3.7/dist-packages (from pyasn1-modules>=0.2.1->google-auth<3,>=1.6.3->tensorboard~=2.6->tensorflow) (0.4.8)\n",
            "Requirement already satisfied: urllib3!=1.25.0,!=1.25.1,<1.26,>=1.21.1 in /usr/local/lib/python3.7/dist-packages (from requests<3,>=2.21.0->tensorboard~=2.6->tensorflow) (1.24.3)\n",
            "Requirement already satisfied: certifi>=2017.4.17 in /usr/local/lib/python3.7/dist-packages (from requests<3,>=2.21.0->tensorboard~=2.6->tensorflow) (2021.10.8)\n",
            "Requirement already satisfied: idna<3,>=2.5 in /usr/local/lib/python3.7/dist-packages (from requests<3,>=2.21.0->tensorboard~=2.6->tensorflow) (2.10)\n",
            "Requirement already satisfied: chardet<4,>=3.0.2 in /usr/local/lib/python3.7/dist-packages (from requests<3,>=2.21.0->tensorboard~=2.6->tensorflow) (3.0.4)\n",
            "Requirement already satisfied: oauthlib>=3.0.0 in /usr/local/lib/python3.7/dist-packages (from requests-oauthlib>=0.7.0->google-auth-oauthlib<0.5,>=0.4.1->tensorboard~=2.6->tensorflow) (3.1.1)\n",
            "Requirement already satisfied: zipp>=0.5 in /usr/local/lib/python3.7/dist-packages (from importlib-metadata->markdown>=2.6.8->tensorboard~=2.6->tensorflow) (3.6.0)\n"
          ]
        }
      ]
    },
    {
      "cell_type": "code",
      "metadata": {
        "id": "MSx8j-nucXpr"
      },
      "source": [
        "# import library for deep learning\n",
        "import pandas as pd\n",
        "#from path import Path\n",
        "import tensorflow as tf\n",
        "from tensorflow.keras.layers import Dense \n",
        "from tensorflow.keras.models import Sequential"
      ],
      "execution_count": null,
      "outputs": []
    },
    {
      "cell_type": "code",
      "metadata": {
        "colab": {
          "base_uri": "https://localhost:8080/"
        },
        "id": "4jCkwI9DcXpr",
        "outputId": "9a0cea33-b5fe-4ca1-ac19-4374140eed7d"
      },
      "source": [
        "# define the model \n",
        "number_inputs=6\n",
        "hidden_nodes_layers1=80\n",
        "hidden_nodes_layer2=40\n",
        "# first hidden layer\n",
        "nn=Sequential()\n",
        "nn.add(Dense(units=hidden_nodes_layers1, input_dim=number_inputs, activation='tanh'))\n",
        "# second hidden layer\n",
        "nn.add(Dense(units=hidden_nodes_layer2, input_dim=number_inputs, activation='tanh'))\n",
        "# output layer\n",
        "nn.add(Dense(1, activation='sigmoid'))\n",
        "# compile model, forward and backward propagation \n",
        "nn.compile(loss='binary_crossentropy', optimizer='adam', metrics=['accuracy'])\n",
        "model=nn.fit(X_train_scaled, y_train, epochs=100)"
      ],
      "execution_count": null,
      "outputs": [
        {
          "output_type": "stream",
          "name": "stdout",
          "text": [
            "Epoch 1/100\n",
            "48/48 [==============================] - 1s 2ms/step - loss: 0.5250 - accuracy: 0.0778\n",
            "Epoch 2/100\n",
            "48/48 [==============================] - 0s 2ms/step - loss: 0.2714 - accuracy: 0.0000e+00\n",
            "Epoch 3/100\n",
            "48/48 [==============================] - 0s 2ms/step - loss: 0.1631 - accuracy: 0.0000e+00\n",
            "Epoch 4/100\n",
            "48/48 [==============================] - 0s 2ms/step - loss: 0.1348 - accuracy: 0.0000e+00\n",
            "Epoch 5/100\n",
            "48/48 [==============================] - 0s 2ms/step - loss: 0.1211 - accuracy: 0.0000e+00\n",
            "Epoch 6/100\n",
            "48/48 [==============================] - 0s 3ms/step - loss: 0.1302 - accuracy: 0.0000e+00\n",
            "Epoch 7/100\n",
            "48/48 [==============================] - 0s 2ms/step - loss: 0.1140 - accuracy: 0.0000e+00\n",
            "Epoch 8/100\n",
            "48/48 [==============================] - 0s 2ms/step - loss: 0.1143 - accuracy: 0.0000e+00\n",
            "Epoch 9/100\n",
            "48/48 [==============================] - 0s 2ms/step - loss: 0.1135 - accuracy: 0.0000e+00\n",
            "Epoch 10/100\n",
            "48/48 [==============================] - 0s 2ms/step - loss: 0.1122 - accuracy: 0.0000e+00\n",
            "Epoch 11/100\n",
            "48/48 [==============================] - 0s 3ms/step - loss: 0.1128 - accuracy: 0.0000e+00\n",
            "Epoch 12/100\n",
            "48/48 [==============================] - 0s 2ms/step - loss: 0.1133 - accuracy: 0.0000e+00\n",
            "Epoch 13/100\n",
            "48/48 [==============================] - 0s 2ms/step - loss: 0.1149 - accuracy: 0.0000e+00\n",
            "Epoch 14/100\n",
            "48/48 [==============================] - 0s 2ms/step - loss: 0.1133 - accuracy: 0.0000e+00\n",
            "Epoch 15/100\n",
            "48/48 [==============================] - 0s 2ms/step - loss: 0.1150 - accuracy: 0.0000e+00\n",
            "Epoch 16/100\n",
            "48/48 [==============================] - 0s 2ms/step - loss: 0.1175 - accuracy: 0.0000e+00\n",
            "Epoch 17/100\n",
            "48/48 [==============================] - 0s 2ms/step - loss: 0.1030 - accuracy: 0.0000e+00\n",
            "Epoch 18/100\n",
            "48/48 [==============================] - 0s 2ms/step - loss: 0.1100 - accuracy: 0.0000e+00\n",
            "Epoch 19/100\n",
            "48/48 [==============================] - 0s 2ms/step - loss: 0.1091 - accuracy: 0.0000e+00\n",
            "Epoch 20/100\n",
            "48/48 [==============================] - 0s 2ms/step - loss: 0.0989 - accuracy: 0.0000e+00\n",
            "Epoch 21/100\n",
            "48/48 [==============================] - 0s 2ms/step - loss: 0.1160 - accuracy: 0.0000e+00\n",
            "Epoch 22/100\n",
            "48/48 [==============================] - 0s 2ms/step - loss: 0.1181 - accuracy: 0.0000e+00\n",
            "Epoch 23/100\n",
            "48/48 [==============================] - 0s 2ms/step - loss: 0.1034 - accuracy: 0.0000e+00\n",
            "Epoch 24/100\n",
            "48/48 [==============================] - 0s 2ms/step - loss: 0.1021 - accuracy: 0.0000e+00\n",
            "Epoch 25/100\n",
            "48/48 [==============================] - 0s 2ms/step - loss: 0.1059 - accuracy: 0.0000e+00\n",
            "Epoch 26/100\n",
            "48/48 [==============================] - 0s 2ms/step - loss: 0.1000 - accuracy: 0.0000e+00\n",
            "Epoch 27/100\n",
            "48/48 [==============================] - 0s 2ms/step - loss: 0.0992 - accuracy: 0.0000e+00\n",
            "Epoch 28/100\n",
            "48/48 [==============================] - 0s 2ms/step - loss: 0.0943 - accuracy: 0.0000e+00\n",
            "Epoch 29/100\n",
            "48/48 [==============================] - 0s 2ms/step - loss: 0.0950 - accuracy: 0.0000e+00\n",
            "Epoch 30/100\n",
            "48/48 [==============================] - 0s 2ms/step - loss: 0.1018 - accuracy: 0.0000e+00\n",
            "Epoch 31/100\n",
            "48/48 [==============================] - 0s 2ms/step - loss: 0.1037 - accuracy: 0.0000e+00\n",
            "Epoch 32/100\n",
            "48/48 [==============================] - 0s 2ms/step - loss: 0.0989 - accuracy: 0.0000e+00\n",
            "Epoch 33/100\n",
            "48/48 [==============================] - 0s 2ms/step - loss: 0.1005 - accuracy: 0.0000e+00\n",
            "Epoch 34/100\n",
            "48/48 [==============================] - 0s 2ms/step - loss: 0.0958 - accuracy: 0.0000e+00\n",
            "Epoch 35/100\n",
            "48/48 [==============================] - 0s 2ms/step - loss: 0.0895 - accuracy: 0.0000e+00\n",
            "Epoch 36/100\n",
            "48/48 [==============================] - 0s 2ms/step - loss: 0.1000 - accuracy: 0.0000e+00\n",
            "Epoch 37/100\n",
            "48/48 [==============================] - 0s 2ms/step - loss: 0.0948 - accuracy: 0.0000e+00\n",
            "Epoch 38/100\n",
            "48/48 [==============================] - 0s 2ms/step - loss: 0.1012 - accuracy: 0.0000e+00\n",
            "Epoch 39/100\n",
            "48/48 [==============================] - 0s 2ms/step - loss: 0.0925 - accuracy: 0.0000e+00\n",
            "Epoch 40/100\n",
            "48/48 [==============================] - 0s 2ms/step - loss: 0.0930 - accuracy: 0.0000e+00\n",
            "Epoch 41/100\n",
            "48/48 [==============================] - 0s 2ms/step - loss: 0.0918 - accuracy: 0.0000e+00\n",
            "Epoch 42/100\n",
            "48/48 [==============================] - 0s 2ms/step - loss: 0.0896 - accuracy: 0.0000e+00\n",
            "Epoch 43/100\n",
            "48/48 [==============================] - 0s 2ms/step - loss: 0.0898 - accuracy: 0.0000e+00\n",
            "Epoch 44/100\n",
            "48/48 [==============================] - 0s 2ms/step - loss: 0.0928 - accuracy: 0.0000e+00\n",
            "Epoch 45/100\n",
            "48/48 [==============================] - 0s 2ms/step - loss: 0.0889 - accuracy: 0.0000e+00\n",
            "Epoch 46/100\n",
            "48/48 [==============================] - 0s 2ms/step - loss: 0.0927 - accuracy: 0.0000e+00\n",
            "Epoch 47/100\n",
            "48/48 [==============================] - 0s 2ms/step - loss: 0.0855 - accuracy: 0.0000e+00\n",
            "Epoch 48/100\n",
            "48/48 [==============================] - 0s 2ms/step - loss: 0.0909 - accuracy: 0.0000e+00 \n",
            "Epoch 49/100\n",
            "48/48 [==============================] - 0s 2ms/step - loss: 0.0893 - accuracy: 0.0000e+00\n",
            "Epoch 50/100\n",
            "48/48 [==============================] - 0s 3ms/step - loss: 0.0944 - accuracy: 0.0000e+00\n",
            "Epoch 51/100\n",
            "48/48 [==============================] - 0s 2ms/step - loss: 0.0888 - accuracy: 0.0000e+00\n",
            "Epoch 52/100\n",
            "48/48 [==============================] - 0s 2ms/step - loss: 0.0856 - accuracy: 0.0000e+00\n",
            "Epoch 53/100\n",
            "48/48 [==============================] - 0s 2ms/step - loss: 0.0837 - accuracy: 0.0000e+00\n",
            "Epoch 54/100\n",
            "48/48 [==============================] - 0s 2ms/step - loss: 0.0883 - accuracy: 0.0000e+00\n",
            "Epoch 55/100\n",
            "48/48 [==============================] - 0s 2ms/step - loss: 0.0907 - accuracy: 0.0000e+00\n",
            "Epoch 56/100\n",
            "48/48 [==============================] - 0s 2ms/step - loss: 0.1005 - accuracy: 0.0000e+00\n",
            "Epoch 57/100\n",
            "48/48 [==============================] - 0s 2ms/step - loss: 0.0747 - accuracy: 0.0000e+00\n",
            "Epoch 58/100\n",
            "48/48 [==============================] - 0s 2ms/step - loss: 0.0913 - accuracy: 0.0000e+00\n",
            "Epoch 59/100\n",
            "48/48 [==============================] - 0s 2ms/step - loss: 0.0828 - accuracy: 0.0000e+00\n",
            "Epoch 60/100\n",
            "48/48 [==============================] - 0s 2ms/step - loss: 0.0737 - accuracy: 0.0000e+00\n",
            "Epoch 61/100\n",
            "48/48 [==============================] - 0s 2ms/step - loss: 0.0846 - accuracy: 0.0000e+00\n",
            "Epoch 62/100\n",
            "48/48 [==============================] - 0s 2ms/step - loss: 0.0731 - accuracy: 0.0000e+00\n",
            "Epoch 63/100\n",
            "48/48 [==============================] - 0s 2ms/step - loss: 0.0799 - accuracy: 0.0000e+00\n",
            "Epoch 64/100\n",
            "48/48 [==============================] - 0s 2ms/step - loss: 0.0758 - accuracy: 0.0000e+00\n",
            "Epoch 65/100\n",
            "48/48 [==============================] - 0s 2ms/step - loss: 0.0793 - accuracy: 0.0000e+00\n",
            "Epoch 66/100\n",
            "48/48 [==============================] - 0s 2ms/step - loss: 0.0780 - accuracy: 0.0000e+00\n",
            "Epoch 67/100\n",
            "48/48 [==============================] - 0s 2ms/step - loss: 0.0771 - accuracy: 0.0000e+00\n",
            "Epoch 68/100\n",
            "48/48 [==============================] - 0s 2ms/step - loss: 0.0762 - accuracy: 0.0000e+00\n",
            "Epoch 69/100\n",
            "48/48 [==============================] - 0s 2ms/step - loss: 0.0917 - accuracy: 0.0000e+00\n",
            "Epoch 70/100\n",
            "48/48 [==============================] - 0s 2ms/step - loss: 0.0841 - accuracy: 0.0000e+00\n",
            "Epoch 71/100\n",
            "48/48 [==============================] - 0s 2ms/step - loss: 0.0796 - accuracy: 0.0000e+00\n",
            "Epoch 72/100\n",
            "48/48 [==============================] - 0s 2ms/step - loss: 0.0722 - accuracy: 0.0000e+00\n",
            "Epoch 73/100\n",
            "48/48 [==============================] - 0s 2ms/step - loss: 0.0727 - accuracy: 0.0000e+00\n",
            "Epoch 74/100\n",
            "48/48 [==============================] - 0s 2ms/step - loss: 0.0883 - accuracy: 0.0000e+00\n",
            "Epoch 75/100\n",
            "48/48 [==============================] - 0s 2ms/step - loss: 0.0786 - accuracy: 0.0000e+00\n",
            "Epoch 76/100\n",
            "48/48 [==============================] - 0s 2ms/step - loss: 0.0617 - accuracy: 0.0000e+00\n",
            "Epoch 77/100\n",
            "48/48 [==============================] - 0s 2ms/step - loss: 0.0735 - accuracy: 0.0000e+00\n",
            "Epoch 78/100\n",
            "48/48 [==============================] - 0s 2ms/step - loss: 0.0691 - accuracy: 0.0000e+00\n",
            "Epoch 79/100\n",
            "48/48 [==============================] - 0s 2ms/step - loss: 0.0678 - accuracy: 0.0000e+00\n",
            "Epoch 80/100\n",
            "48/48 [==============================] - 0s 2ms/step - loss: 0.0680 - accuracy: 0.0000e+00\n",
            "Epoch 81/100\n",
            "48/48 [==============================] - 0s 2ms/step - loss: 0.0750 - accuracy: 0.0000e+00\n",
            "Epoch 82/100\n",
            "48/48 [==============================] - 0s 2ms/step - loss: 0.0651 - accuracy: 0.0000e+00\n",
            "Epoch 83/100\n",
            "48/48 [==============================] - 0s 2ms/step - loss: 0.0621 - accuracy: 0.0000e+00\n",
            "Epoch 84/100\n",
            "48/48 [==============================] - 0s 2ms/step - loss: 0.0576 - accuracy: 0.0000e+00\n",
            "Epoch 85/100\n",
            "48/48 [==============================] - 0s 2ms/step - loss: 0.0647 - accuracy: 0.0000e+00\n",
            "Epoch 86/100\n",
            "48/48 [==============================] - 0s 2ms/step - loss: 0.0561 - accuracy: 0.0000e+00\n",
            "Epoch 87/100\n",
            "48/48 [==============================] - 0s 2ms/step - loss: 0.0608 - accuracy: 0.0000e+00\n",
            "Epoch 88/100\n",
            "48/48 [==============================] - 0s 2ms/step - loss: 0.0553 - accuracy: 0.0000e+00\n",
            "Epoch 89/100\n",
            "48/48 [==============================] - 0s 2ms/step - loss: 0.0526 - accuracy: 0.0000e+00\n",
            "Epoch 90/100\n",
            "48/48 [==============================] - 0s 2ms/step - loss: 0.0486 - accuracy: 0.0000e+00\n",
            "Epoch 91/100\n",
            "48/48 [==============================] - 0s 2ms/step - loss: 0.0536 - accuracy: 6.5920e-04\n",
            "Epoch 92/100\n",
            "48/48 [==============================] - 0s 2ms/step - loss: 0.0511 - accuracy: 0.0000e+00\n",
            "Epoch 93/100\n",
            "48/48 [==============================] - 0s 2ms/step - loss: 0.0486 - accuracy: 0.0000e+00\n",
            "Epoch 94/100\n",
            "48/48 [==============================] - 0s 2ms/step - loss: 0.0495 - accuracy: 0.0000e+00\n",
            "Epoch 95/100\n",
            "48/48 [==============================] - 0s 2ms/step - loss: 0.0463 - accuracy: 0.0000e+00\n",
            "Epoch 96/100\n",
            "48/48 [==============================] - 0s 2ms/step - loss: 0.0508 - accuracy: 0.0000e+00\n",
            "Epoch 97/100\n",
            "48/48 [==============================] - 0s 2ms/step - loss: 0.0669 - accuracy: 0.0000e+00\n",
            "Epoch 98/100\n",
            "48/48 [==============================] - 0s 2ms/step - loss: 0.0475 - accuracy: 0.0000e+00\n",
            "Epoch 99/100\n",
            "48/48 [==============================] - 0s 2ms/step - loss: 0.0402 - accuracy: 0.0000e+00\n",
            "Epoch 100/100\n",
            "48/48 [==============================] - 0s 2ms/step - loss: 0.0475 - accuracy: 0.0000e+00\n"
          ]
        }
      ]
    },
    {
      "cell_type": "code",
      "metadata": {
        "id": "Qq2-rjO7cXpr",
        "colab": {
          "base_uri": "https://localhost:8080/",
          "height": 282
        },
        "outputId": "41d9adf5-ec1f-4820-de8d-589e9ff67443"
      },
      "source": [
        "import matplotlib.pyplot as plt\n",
        "plt.plot(model.history[\"loss\"])"
      ],
      "execution_count": null,
      "outputs": [
        {
          "output_type": "execute_result",
          "data": {
            "text/plain": [
              "[<matplotlib.lines.Line2D at 0x7f2642ef4a90>]"
            ]
          },
          "metadata": {},
          "execution_count": 51
        },
        {
          "output_type": "display_data",
          "data": {
            "image/png": "[encoded data removed]",
            "text/plain": [
              "<Figure size 432x288 with 1 Axes>"
            ]
          },
          "metadata": {
            "needs_background": "light"
          }
        }
      ]
    },
    {
      "cell_type": "code",
      "metadata": {
        "id": "_90sPyXUcXpr",
        "colab": {
          "base_uri": "https://localhost:8080/",
          "height": 282
        },
        "outputId": "2b5ac208-4326-455a-9d82-2060d99876a1"
      },
      "source": [
        "plt.plot(model.history['accuracy'])"
      ],
      "execution_count": null,
      "outputs": [
        {
          "output_type": "execute_result",
          "data": {
            "text/plain": [
              "[<matplotlib.lines.Line2D at 0x7f2642ee4650>]"
            ]
          },
          "metadata": {},
          "execution_count": 52
        },
        {
          "output_type": "display_data",
          "data": {
            "image/png": "[encoded data removed]",
            "text/plain": [
              "<Figure size 432x288 with 1 Axes>"
            ]
          },
          "metadata": {
            "needs_background": "light"
          }
        }
      ]
    },
    {
      "cell_type": "code",
      "metadata": {
        "id": "Wq93j40OcXpr",
        "colab": {
          "base_uri": "https://localhost:8080/"
        },
        "outputId": "fc6990cf-cd82-472f-82cc-5b7e5c64fda6"
      },
      "source": [
        "# evaluate the model with testing data \n",
        "model_loss, model_accuracy=nn.evaluate(X_test_scaled, y_test, verbose=2)"
      ],
      "execution_count": null,
      "outputs": [
        {
          "output_type": "stream",
          "name": "stdout",
          "text": [
            "327/327 - 1s - loss: 0.2939 - accuracy: 0.0000e+00 - 518ms/epoch - 2ms/step\n"
          ]
        }
      ]
    },
    {
      "cell_type": "markdown",
      "metadata": {
        "id": "tcUuTEBZwM8n"
      },
      "source": [
        "### hyper-parameters tuning -- RandomForestClassifier"
      ]
    },
    {
      "cell_type": "code",
      "metadata": {
        "id": "947hw6npcXpr",
        "colab": {
          "base_uri": "https://localhost:8080/"
        },
        "outputId": "908f231c-1767-4541-c61b-a95955ac22db"
      },
      "source": [
        "# Exhaustive Grid Search \n",
        "from sklearn.model_selection import GridSearchCV\n",
        "from sklearn.metrics import make_scorer\n",
        "from sklearn.metrics import fbeta_score\n",
        "from sklearn.metrics import accuracy_score\n",
        "clf=RandomForestClassifier(random_state=42)\n",
        "\n",
        "parameters={'n_estimators':[10,20,50,100,150],\n",
        "            'criterion':['gini','entropy'],\n",
        "            'max_depth':[3,6,None]}\n",
        "scorer=make_scorer(fbeta_score, beta=0.05)\n",
        "grid_obj=GridSearchCV(clf, parameters, scoring=scorer)\n",
        "grid_obj"
      ],
      "execution_count": null,
      "outputs": [
        {
          "output_type": "execute_result",
          "data": {
            "text/plain": [
              "GridSearchCV(cv=None, error_score=nan,\n",
              "             estimator=RandomForestClassifier(bootstrap=True, ccp_alpha=0.0,\n",
              "                                              class_weight=None,\n",
              "                                              criterion='gini', max_depth=None,\n",
              "                                              max_features='auto',\n",
              "                                              max_leaf_nodes=None,\n",
              "                                              max_samples=None,\n",
              "                                              min_impurity_decrease=0.0,\n",
              "                                              min_impurity_split=None,\n",
              "                                              min_samples_leaf=1,\n",
              "                                              min_samples_split=2,\n",
              "                                              min_weight_fraction_leaf=0.0,\n",
              "                                              n_estimators=100, n_jobs=None,\n",
              "                                              oob_score=False, random_state=42,\n",
              "                                              verbose=0, warm_start=False),\n",
              "             iid='deprecated', n_jobs=None,\n",
              "             param_grid={'criterion': ['gini', 'entropy'],\n",
              "                         'max_depth': [3, 6, None],\n",
              "                         'n_estimators': [10, 20, 50, 100, 150]},\n",
              "             pre_dispatch='2*n_jobs', refit=True, return_train_score=False,\n",
              "             scoring=make_scorer(fbeta_score, beta=0.05), verbose=0)"
            ]
          },
          "metadata": {},
          "execution_count": 54
        }
      ]
    },
    {
      "cell_type": "code",
      "metadata": {
        "id": "4--MITlscXps"
      },
      "source": [
        "grid_fit=grid_obj.fit(X_train_scaled, y_train)"
      ],
      "execution_count": null,
      "outputs": []
    },
    {
      "cell_type": "code",
      "metadata": {
        "id": "-QqeZAc7cXps"
      },
      "source": [
        "best_clf=grid_fit.best_estimator_"
      ],
      "execution_count": null,
      "outputs": []
    },
    {
      "cell_type": "code",
      "metadata": {
        "id": "fs5m3k5ncXps",
        "colab": {
          "base_uri": "https://localhost:8080/"
        },
        "outputId": "4bb27860-efec-44f2-844a-0f405e3adf78"
      },
      "source": [
        "predictions=(clf.fit(X_train_scaled, y_train)).predict(X_test_scaled)\n",
        "predictions_train=(clf.fit(X_train_scaled, y_train)).predict(X_train_scaled)\n",
        "best_predictions=best_clf.predict(X_test_scaled)\n",
        "best_predictions_train=best_clf.predict(X_train_scaled)\n",
        "\n",
        "# report the before vs after scores\n",
        "print('------------------unoptimized mode_test-------------------')\n",
        "print(f'accuracy score on testing data: {round(accuracy_score(y_test, predictions),2)}')\n",
        "print(f'F-score on testing data: {round(fbeta_score(y_test, predictions, beta=0.5),2)}')\n",
        "##\n",
        "print('-------------unoptimized mode__train------------------')\n",
        "print(f'accuracy score on training data: {round(accuracy_score(y_train, predictions_train),2)}')\n",
        "print(f'F-score on training data: {round(fbeta_score(y_train, predictions_train, beta=0.5),2)}')\n",
        "##\n",
        "print('-----------------Optimized model_test-------------------')\n",
        "print(f'accuracy score on testing data: {round(accuracy_score(y_test, best_predictions),2)}')\n",
        "print(f'F-score on testing data: {round(fbeta_score(y_test, best_predictions, beta=0.5),2)}')\n",
        "\n",
        "print('------------------Optimized model__train-------------------')\n",
        "print(f'accuracy score on training data: {round(accuracy_score(y_train, best_predictions_train),2)}')\n",
        "print(f'F-score on training data: {round(fbeta_score(y_train, best_predictions_train, beta=0.5),2)}')"
      ],
      "execution_count": null,
      "outputs": [
        {
          "output_type": "stream",
          "name": "stdout",
          "text": [
            "------------------unoptimized mode_test-------------------\n",
            "accuracy score on testing data: 0.51\n",
            "F-score on testing data: 0.55\n",
            "-------------unoptimized mode__train------------------\n",
            "accuracy score on training data: 1.0\n",
            "F-score on training data: 1.0\n",
            "-----------------Optimized model_test-------------------\n",
            "accuracy score on testing data: 0.52\n",
            "F-score on testing data: 0.57\n",
            "------------------Optimized model__train-------------------\n",
            "accuracy score on training data: 0.56\n",
            "F-score on training data: 0.59\n"
          ]
        }
      ]
    },
    {
      "cell_type": "code",
      "metadata": {
        "id": "Ug8VIdUKcXps",
        "colab": {
          "base_uri": "https://localhost:8080/"
        },
        "outputId": "2883c4e1-4260-486d-db53-8f867f369d78"
      },
      "source": [
        "best_clf"
      ],
      "execution_count": null,
      "outputs": [
        {
          "output_type": "execute_result",
          "data": {
            "text/plain": [
              "RandomForestClassifier(bootstrap=True, ccp_alpha=0.0, class_weight=None,\n",
              "                       criterion='entropy', max_depth=3, max_features='auto',\n",
              "                       max_leaf_nodes=None, max_samples=None,\n",
              "                       min_impurity_decrease=0.0, min_impurity_split=None,\n",
              "                       min_samples_leaf=1, min_samples_split=2,\n",
              "                       min_weight_fraction_leaf=0.0, n_estimators=10,\n",
              "                       n_jobs=None, oob_score=False, random_state=42, verbose=0,\n",
              "                       warm_start=False)"
            ]
          },
          "metadata": {},
          "execution_count": 58
        }
      ]
    },
    {
      "cell_type": "markdown",
      "metadata": {
        "id": "PBqDCUO0xF-X"
      },
      "source": [
        "### XGboost\n",
        "use regularization parameters that helps against overfitting"
      ]
    },
    {
      "cell_type": "code",
      "metadata": {
        "id": "AoeyA95Qw_UM"
      },
      "source": [
        "import xgboost as xgb"
      ],
      "execution_count": null,
      "outputs": []
    },
    {
      "cell_type": "code",
      "metadata": {
        "colab": {
          "base_uri": "https://localhost:8080/"
        },
        "id": "pqrz5x1W1Y6t",
        "outputId": "bc54bdaf-e549-4769-9083-10373557db7c"
      },
      "source": [
        "xgmodel=xgb.XGBClassifier(max_depth=3,n_estimators=300, learning_rate=0.05) \\\n",
        "    .fit(X_train_scaled, y_train)\n",
        "y_pred=xgmodel.predict(X_test_scaled)\n",
        "y_pred\n"
      ],
      "execution_count": null,
      "outputs": [
        {
          "output_type": "execute_result",
          "data": {
            "text/plain": [
              "array([ 1.,  1.,  1., ..., -1.,  1.,  1.])"
            ]
          },
          "metadata": {},
          "execution_count": 62
        }
      ]
    },
    {
      "cell_type": "code",
      "metadata": {
        "colab": {
          "base_uri": "https://localhost:8080/"
        },
        "id": "vMmDxLnq2XAY",
        "outputId": "55044846-7c3d-45d6-b59b-2d5b9509b4d0"
      },
      "source": [
        "# model eval\n",
        "accuracy=accuracy_score(y_test,y_pred )\n",
        "print(accuracy)"
      ],
      "execution_count": null,
      "outputs": [
        {
          "output_type": "stream",
          "name": "stdout",
          "text": [
            "0.5165518561040949\n"
          ]
        }
      ]
    },
    {
      "cell_type": "code",
      "metadata": {
        "id": "Y_umon0s6Q3N"
      },
      "source": [
        "d=[{'one':1,'two':2}]"
      ],
      "execution_count": null,
      "outputs": []
    },
    {
      "cell_type": "code",
      "metadata": {
        "colab": {
          "base_uri": "https://localhost:8080/",
          "height": 35
        },
        "id": "uHeMWe_5iJrB",
        "outputId": "a4b63000-9637-4f85-ae72-28534af477e8"
      },
      "source": [
        "str(d).lstrip('[').rstrip(']')"
      ],
      "execution_count": null,
      "outputs": [
        {
          "output_type": "execute_result",
          "data": {
            "application/vnd.google.colaboratory.intrinsic+json": {
              "type": "string"
            },
            "text/plain": [
              "\"{'one': 1, 'two': 2}\""
            ]
          },
          "metadata": {},
          "execution_count": 12
        }
      ]
    },
    {
      "cell_type": "code",
      "metadata": {
        "id": "tALW0a-TiMgP"
      },
      "source": [
        ""
      ],
      "execution_count": null,
      "outputs": []
    }
  ]
}